{
 "cells": [
  {
   "cell_type": "code",
   "execution_count": 108,
   "metadata": {},
   "outputs": [],
   "source": [
    "from math import sin\n",
    "import numpy as np\n",
    "import matplotlib.pyplot as plt \n",
    "def rk4_sim(f, r0, a, b, N=100):\n",
    "    ''' Solves coupled ODE using fourth-order Runge-Kutta \n",
    "    f = function in x,t \n",
    "    x0 = initial condition\n",
    "    a = starting point\n",
    "    b = endpoint \n",
    "    N = number of steps\n",
    "    '''\n",
    "    h = (b-a)/N \n",
    "    tpoints = np.arange(a,b,h)\n",
    "    result_list = []\n",
    "    for i in range(len(r0)):\n",
    "        result_list.append([])\n",
    "    r = np.array(r0,float)\n",
    "    for t in tpoints:\n",
    "        for i in range(len(r0)):\n",
    "            result_list[i].append(r[i])\n",
    "        k1 = h*f(r,t)\n",
    "        k2 = h*f(r+0.5*k1,t+0.5*h)\n",
    "        k3 = h*f(r+0.5*k2,t+0.5*h)\n",
    "        k4 = h*f(r+k3,t+h)\n",
    "        r += (k1+2*k2+2*k3+k4)/6 \n",
    "    result_list=np.vstack((tpoints, result_list))\n",
    "    return result_list\n",
    "    "
   ]
  },
  {
   "cell_type": "code",
   "execution_count": 104,
   "metadata": {},
   "outputs": [],
   "source": [
    "def g(r,t):\n",
    "    x = r[0]\n",
    "    y = r[1]\n",
    "    fx = x*y - x\n",
    "    fy = y - x*y + sin(t)**2\n",
    "    return np.array([fx,fy],float)\n",
    "# rk4_sim(g, [1,1], 0, 10, N=1000)"
   ]
  },
  {
   "cell_type": "code",
   "execution_count": 110,
   "metadata": {},
   "outputs": [
    {
     "data": {
      "text/plain": [
       "0.49000949999771676"
      ]
     },
     "execution_count": 110,
     "metadata": {},
     "output_type": "execute_result"
    }
   ],
   "source": [
    "def throw(r,t):\n",
    "    x,v = r[0], r[1]\n",
    "    fv = -9.81\n",
    "    fx = v\n",
    "    return np.array([fx, fv], float)\n",
    "a=rk4_sim(throw, [0.0, 49.05], 0., 10., 1000)\n",
    "a[1][-1]"
   ]
  },
  {
   "cell_type": "code",
   "execution_count": 130,
   "metadata": {},
   "outputs": [
    {
     "name": "stdout",
     "output_type": "stream",
     "text": [
      "0.49000949999771676\n"
     ]
    }
   ],
   "source": [
    "def f(r,t):\n",
    "    x = r[0]\n",
    "    y = r[1]\n",
    "    fx = y\n",
    "    fy = -9.81\n",
    "    return np.array([fx,fy],float)\n",
    "\n",
    "a = 0.0\n",
    "b = 10.0\n",
    "N = 1000\n",
    "h = (b-a)/N\n",
    "\n",
    "tpoints = np.arange(a,b,h)\n",
    "xpoints = []\n",
    "ypoints = []\n",
    "\n",
    "r = np.array([0, 49.05],float)\n",
    "for t in tpoints:\n",
    "    xpoints.append(r[0])\n",
    "    ypoints.append(r[1])\n",
    "    k1 = h*f(r,t)\n",
    "    k2 = h*f(r+0.5*k1,t+0.5*h)\n",
    "    k3 = h*f(r+0.5*k2,t+0.5*h)\n",
    "    k4 = h*f(r+k3,t+h)\n",
    "    # print(k4)\n",
    "    r += (k1+2*k2+2*k3+k4)/6 \n",
    "print(np.array(xpoints)[-1])"
   ]
  },
  {
   "cell_type": "code",
   "execution_count": 88,
   "metadata": {},
   "outputs": [
    {
     "name": "stdout",
     "output_type": "stream",
     "text": [
      "1.4319804368907307\n"
     ]
    }
   ],
   "source": [
    "def f(r,t):\n",
    "    x = r[0]\n",
    "    y = r[1]\n",
    "    fx = x*y - x\n",
    "    fy = y - x*y + sin(t)**2\n",
    "    return np.array([fx,fy],float)\n",
    "\n",
    "a = 0.0\n",
    "b = 10.0\n",
    "N = 1000\n",
    "h = (b-a)/N\n",
    "r0 = [1.0,1.0]\n",
    "\n",
    "tpoints = np.arange(a,b,h)\n",
    "result_list = []\n",
    "for i in range(len(r0)):\n",
    "    result_list.append([])\n",
    "\n",
    "r = np.array([1.0,1.0],float)\n",
    "for t in tpoints:\n",
    "    for i in range(len(r0)):\n",
    "        result_list[i].append(r[i])\n",
    "    k1 = h*f(r,t)\n",
    "    k2 = h*f(r+0.5*k1,t+0.5*h)\n",
    "    k3 = h*f(r+0.5*k2,t+0.5*h)\n",
    "    k4 = h*f(r+k3,t+h)\n",
    "    r += (k1+2*k2+2*k3+k4)/6 \n",
    "print(result_list[0][-1])"
   ]
  },
  {
   "cell_type": "code",
   "execution_count": 93,
   "metadata": {},
   "outputs": [
    {
     "data": {
      "text/plain": [
       "-97.00190000000134"
      ]
     },
     "execution_count": 93,
     "metadata": {},
     "output_type": "execute_result"
    }
   ],
   "source": [
    "def throw(r,t):\n",
    "    x,v = r[0], r[1]\n",
    "    fv = -9.81\n",
    "    fx = v\n",
    "    return np.array([fx, fv], float)\n",
    "rk4_sim(throw, [0.0, 49.05], 0., 10., 1000)[2][-1]"
   ]
  },
  {
   "cell_type": "code",
   "execution_count": 106,
   "metadata": {},
   "outputs": [
    {
     "data": {
      "text/plain": [
       "[<matplotlib.lines.Line2D at 0x2e030588ee0>]"
      ]
     },
     "execution_count": 106,
     "metadata": {},
     "output_type": "execute_result"
    },
    {
     "data": {
      "image/png": "[encoded data removed]",
      "text/plain": [
       "<Figure size 432x288 with 1 Axes>"
      ]
     },
     "metadata": {
      "needs_background": "light"
     },
     "output_type": "display_data"
    }
   ],
   "source": [
    "plt.plot(a[0], a[2])"
   ]
  },
  {
   "cell_type": "code",
   "execution_count": 120,
   "metadata": {},
   "outputs": [
    {
     "name": "stdout",
     "output_type": "stream",
     "text": [
      "[-490.40000000000384  -98.09000000000137]\n",
      "[9509.499999999776   901.8999999999551]\n",
      "[4509.550000000058   401.9050000000119]\n",
      "[2009.5750000000596  151.9075000000119]\n",
      "[759.5874999999885   26.90874999999788]\n",
      "[134.5937499999952  -35.59062500000045]\n",
      "[-177.90312499999925  -66.84031250000048]\n",
      "[-21.65468750000192  -51.215468750000454]\n",
      "[ 56.469531249996635 -43.403046875000456]\n",
      "[ 17.407421874997357 -47.309257812500455]\n",
      "[ -2.1236328125022776 -49.26236328125045  ]\n",
      "[  7.641894531247521 -48.28581054687545 ]\n",
      "[  2.759130859372644 -48.77408691406295 ]\n",
      "[  0.3177490234351139 -49.01822509765671  ]\n",
      "[ -0.9029418945336272 -49.140294189453584 ]\n",
      "[ -0.2925964355492312 -49.07925964355515  ]\n",
      "[ 1.2576293942965222e-02 -4.9048742370605929e+01]\n",
      "[ -0.1400100708030976 -49.06400100708053  ]\n",
      "[ -0.0637168884300805 -49.05637168884323  ]\n",
      "[-2.5570297243604767e-02 -4.9052557029724582e+01]\n",
      "[-6.497001650239531e-03 -4.905064970016525e+01]\n",
      "[ 3.0396461462889879e-03 -4.9049696035385594e+01]\n",
      "[-1.7286777519631702e-03 -4.9050172867775423e+01]\n",
      "[ 6.554841971136427e-04 -4.904993445158051e+01]\n",
      "[-5.365967774635938e-04 -4.905005365967797e+01]\n",
      "[ 5.944370981203484e-05 -4.904999405562924e+01]\n",
      "[-2.3857653379449895e-04 -4.9050023857653606e+01]\n",
      "[-8.956641198887283e-05 -4.905000895664142e+01]\n",
      "[-1.506135106260631e-05 -4.905000150613533e+01]\n",
      "[ 2.2191179370467662e-05 -4.9049997780882286e+01]\n",
      "[ 3.5649141159610487e-06 -4.9049999643508812e+01]\n",
      "[-5.748218470325028e-06 -4.905000057482207e+01]\n",
      "[-1.0916521790416134e-06 -4.9050000109165438e+01]\n",
      "[ 1.2366309975475609e-06 -4.9049999876337125e+01]\n",
      "[ 7.248944844384653e-08 -4.904999999275128e+01]\n",
      "[-5.095813709332653e-07 -4.905000005095836e+01]\n",
      "[-2.1854595866344084e-07 -4.9050000021854821e+01]\n",
      "[-7.3028328051449876e-08 -4.9050000007303055e+01]\n",
      "[-2.694406919800940e-10 -4.905000000002717e+01]\n",
      "[ 3.6109975176668030e-08 -4.9049999996389225e+01]\n",
      "[ 1.7920313288843914e-08 -4.9049999998208193e+01]\n",
      "[ 8.825429442804733e-09 -4.904999999911768e+01]\n",
      "[ 4.278032816884547e-09 -4.904999999957242e+01]\n",
      "[ 2.0042960624522266e-09 -4.9049999999799795e+01]\n",
      "[ 8.674276852360663e-10 -4.904999999991348e+01]\n",
      "[ 2.9899349662798613e-10 -4.9049999999970325e+01]\n",
      "[ 1.477640232394606e-11 -4.904999999999875e+01]\n",
      "[-1.2733214482807398e-10 -4.9050000000012957e+01]\n",
      "[-5.627787125206396e-11 -4.905000000000585e+01]\n",
      "The required initial velocity is 49.04999999999815 m/s\n"
     ]
    }
   ],
   "source": [
    "g = 9.81         # Acceleration due to gravity\n",
    "a = 0.0          # Initial time\n",
    "b = 10.0         # Final time\n",
    "N = 1000         # Number of Runge-Kutta steps\n",
    "h = (b-a)/N      # Size of Runge-Kutta steps\n",
    "target = 1e-10   # Target accuracy for binary search\n",
    "\n",
    "# Function for Runge-Kutta calculation\n",
    "def f(r):\n",
    "    x = r[0]\n",
    "    y = r[1]\n",
    "    fx = y\n",
    "    fy = -g\n",
    "    return np.array([fx,fy],float)\n",
    "\n",
    "# Function to solve the equation and calculate the final height\n",
    "def height(v):\n",
    "    r = np.array([0.0,v],float)\n",
    "    for t in np.arange(a,b,h):\n",
    "        k1 = h*f(r)\n",
    "        k2 = h*f(r+0.5*k1)\n",
    "        k3 = h*f(r+0.5*k2)\n",
    "        k4 = h*f(r+k3)\n",
    "        r += (k1+2*k2+2*k3+k4)/6\n",
    "    print(r)\n",
    "    return r[0]\n",
    "\n",
    "# Main program performs a binary search\n",
    "v1 = 0.01\n",
    "v2 = 1000.0\n",
    "h1 = height(v1)\n",
    "h2 = height(v2)\n",
    "\n",
    "while abs(h2-h1)>target:\n",
    "    vp = (v1+v2)/2\n",
    "    hp = height(vp)\n",
    "    if h1*hp>0:\n",
    "        v1 = vp\n",
    "        h1 = hp\n",
    "    else:\n",
    "        v2 = vp\n",
    "        h2 = hp\n",
    "\n",
    "v = (v1+v2)/2\n",
    "print(\"The required initial velocity is\",v,\"m/s\")"
   ]
  },
  {
   "cell_type": "code",
   "execution_count": 119,
   "metadata": {},
   "outputs": [
    {
     "ename": "TypeError",
     "evalue": "f() missing 1 required positional argument: 't'",
     "output_type": "error",
     "traceback": [
      "\u001b[1;31m---------------------------------------------------------------------------\u001b[0m",
      "\u001b[1;31mTypeError\u001b[0m                                 Traceback (most recent call last)",
      "\u001b[1;32m~\\AppData\\Local\\Temp/ipykernel_23316/621296613.py\u001b[0m in \u001b[0;36m<module>\u001b[1;34m\u001b[0m\n\u001b[1;32m----> 1\u001b[1;33m \u001b[0mheight\u001b[0m\u001b[1;33m(\u001b[0m\u001b[1;36m49.05\u001b[0m\u001b[1;33m)\u001b[0m\u001b[1;33m\u001b[0m\u001b[1;33m\u001b[0m\u001b[0m\n\u001b[0m",
      "\u001b[1;32m~\\AppData\\Local\\Temp/ipykernel_23316/3904072393.py\u001b[0m in \u001b[0;36mheight\u001b[1;34m(v)\u001b[0m\n\u001b[0;32m     18\u001b[0m     \u001b[0mr\u001b[0m \u001b[1;33m=\u001b[0m \u001b[0mnp\u001b[0m\u001b[1;33m.\u001b[0m\u001b[0marray\u001b[0m\u001b[1;33m(\u001b[0m\u001b[1;33m[\u001b[0m\u001b[1;36m0.0\u001b[0m\u001b[1;33m,\u001b[0m\u001b[0mv\u001b[0m\u001b[1;33m]\u001b[0m\u001b[1;33m,\u001b[0m\u001b[0mfloat\u001b[0m\u001b[1;33m)\u001b[0m\u001b[1;33m\u001b[0m\u001b[1;33m\u001b[0m\u001b[0m\n\u001b[0;32m     19\u001b[0m     \u001b[1;32mfor\u001b[0m \u001b[0mt\u001b[0m \u001b[1;32min\u001b[0m \u001b[0mnp\u001b[0m\u001b[1;33m.\u001b[0m\u001b[0marange\u001b[0m\u001b[1;33m(\u001b[0m\u001b[0ma\u001b[0m\u001b[1;33m,\u001b[0m\u001b[0mb\u001b[0m\u001b[1;33m,\u001b[0m\u001b[0mh\u001b[0m\u001b[1;33m)\u001b[0m\u001b[1;33m:\u001b[0m\u001b[1;33m\u001b[0m\u001b[1;33m\u001b[0m\u001b[0m\n\u001b[1;32m---> 20\u001b[1;33m         \u001b[0mk1\u001b[0m \u001b[1;33m=\u001b[0m \u001b[0mh\u001b[0m\u001b[1;33m*\u001b[0m\u001b[0mf\u001b[0m\u001b[1;33m(\u001b[0m\u001b[0mr\u001b[0m\u001b[1;33m)\u001b[0m\u001b[1;33m\u001b[0m\u001b[1;33m\u001b[0m\u001b[0m\n\u001b[0m\u001b[0;32m     21\u001b[0m         \u001b[0mk2\u001b[0m \u001b[1;33m=\u001b[0m \u001b[0mh\u001b[0m\u001b[1;33m*\u001b[0m\u001b[0mf\u001b[0m\u001b[1;33m(\u001b[0m\u001b[0mr\u001b[0m\u001b[1;33m+\u001b[0m\u001b[1;36m0.5\u001b[0m\u001b[1;33m*\u001b[0m\u001b[0mk1\u001b[0m\u001b[1;33m)\u001b[0m\u001b[1;33m\u001b[0m\u001b[1;33m\u001b[0m\u001b[0m\n\u001b[0;32m     22\u001b[0m         \u001b[0mk3\u001b[0m \u001b[1;33m=\u001b[0m \u001b[0mh\u001b[0m\u001b[1;33m*\u001b[0m\u001b[0mf\u001b[0m\u001b[1;33m(\u001b[0m\u001b[0mr\u001b[0m\u001b[1;33m+\u001b[0m\u001b[1;36m0.5\u001b[0m\u001b[1;33m*\u001b[0m\u001b[0mk2\u001b[0m\u001b[1;33m)\u001b[0m\u001b[1;33m\u001b[0m\u001b[1;33m\u001b[0m\u001b[0m\n",
      "\u001b[1;31mTypeError\u001b[0m: f() missing 1 required positional argument: 't'"
     ]
    }
   ],
   "source": [
    "height(49.05)"
   ]
  },
  {
   "cell_type": "code",
   "execution_count": 133,
   "metadata": {},
   "outputs": [
    {
     "name": "stderr",
     "output_type": "stream",
     "text": [
      "C:\\Users\\Ron\\AppData\\Local\\Temp/ipykernel_23316/86365304.py:8: DeprecationWarning: setting an array element with a sequence. This was supported in some cases where the elements are arrays with a single element. For example `np.array([1, np.array([2])], dtype=int)`. In the future this will raise the same ValueError as `np.array([1, [2]], dtype=int)`.\n",
      "  return np.array([fx,fy],float)\n"
     ]
    },
    {
     "data": {
      "text/plain": [
       "-49.05"
      ]
     },
     "execution_count": 133,
     "metadata": {},
     "output_type": "execute_result"
    }
   ],
   "source": [
    "from scipy.integrate import solve_ivp \n",
    "\n",
    "def f(t,r):\n",
    "    x = r[0]\n",
    "    y = r[1]\n",
    "    fx = y\n",
    "    fy = -9.81\n",
    "    return np.array([fx,fy],float)\n",
    "\n",
    "solve_ivp(f, (0,10), [0,49.05], 'RK45', vectorized=True).y[1][-1]"
   ]
  },
  {
   "cell_type": "code",
   "execution_count": null,
   "metadata": {},
   "outputs": [],
   "source": [
    "def rk4_sim(f, r0, a, b, N=100):\n",
    "    h = (b-a)/N \n",
    "    tpoints = np.arange(a,b,h)\n",
    "    result_list = []\n",
    "    for i in range(len(r0)):\n",
    "        result_list.append([])\n",
    "    r = np.array(r0,float)\n",
    "    for t in tpoints:\n",
    "        for i in range(len(r0)):\n",
    "            result_list[i].append(r[i])\n",
    "        k1 = h*f(r,t)\n",
    "        k2 = h*f(r+0.5*k1,t+0.5*h)\n",
    "        k3 = h*f(r+0.5*k2,t+0.5*h)\n",
    "        k4 = h*f(r+k3,t+h)\n",
    "        r += (k1+2*k2+2*k3+k4)/6 \n",
    "    result_list=np.vstack((tpoints, result_list))\n",
    "    return result_list"
   ]
  },
  {
   "cell_type": "code",
   "execution_count": null,
   "metadata": {},
   "outputs": [],
   "source": [
    "def rk4_sim(f, r0, a, b, N=1000):\n",
    "    h = (b-a)/N \n",
    "    ts = np.linspace(a,b,N)\n",
    "    r=np.array([r0], float)\n",
    "    for t in np.arange(0,N-1,1): \n",
    "        k1 = h*f(ts[t], r[t]) \n",
    "        k2 = h*f(ts[t] + h/2, r[t] + k1/2) \n",
    "        k3 = h*f(ts[t] + h/2, r[t] + k2/2) \n",
    "        k4 = h*f(ts[t] + h, r[t] + k3) \n",
    "        to_add = (r[t] + (k1+2*k2+2*k3+k4)/6).reshape(1,len(r0))\n",
    "        r=np.append(r, to_add, axis=0)\n",
    "    ts=ts.reshape(len(ts),1) \n",
    "    return np.hstack((ts, r))"
   ]
  }
 ],
 "metadata": {
  "kernelspec": {
   "display_name": "Python 3.9.7 ('base')",
   "language": "python",
   "name": "python3"
  },
  "language_info": {
   "codemirror_mode": {
    "name": "ipython",
    "version": 3
   },
   "file_extension": ".py",
   "mimetype": "text/x-python",
   "name": "python",
   "nbconvert_exporter": "python",
   "pygments_lexer": "ipython3",
   "version": "3.9.7"
  },
  "orig_nbformat": 4,
  "vscode": {
   "interpreter": {
    "hash": "b585a70d5ba3366bec34bcef3abe5897366cb631c247f87a4b6d516df4dc3fe2"
   }
  }
 },
 "nbformat": 4,
 "nbformat_minor": 2
}
