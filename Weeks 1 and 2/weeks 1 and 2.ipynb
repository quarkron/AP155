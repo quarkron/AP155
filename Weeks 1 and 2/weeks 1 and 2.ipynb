{
 "cells": [
  {
   "cell_type": "code",
   "execution_count": 1,
   "metadata": {},
   "outputs": [],
   "source": [
    "import numpy as np\n",
    "import matplotlib.pyplot as plt \n",
    "import seaborn as sns "
   ]
  },
  {
   "cell_type": "markdown",
   "metadata": {},
   "source": [
    "Semi-empirical Mass Formula"
   ]
  },
  {
   "cell_type": "code",
   "execution_count": 2,
   "metadata": {},
   "outputs": [],
   "source": [
    "def bindingEnergy(A,Z):\n",
    "    (a1,a2,a3,a4)=(15.67,17.23,0.75,93.2)\n",
    "    if A%2==1:\n",
    "        a5=0\n",
    "    if A%2==0 and Z%2 == 0:\n",
    "        a5=12.0\n",
    "    if A%2==0 and Z%2 == 1:\n",
    "        a5=-12.0\n",
    "    B = a1*A - a2*A**(2/3) - a3*(Z**2)/(np.cbrt(A)) - a4*((A-2*Z)**2)/A + a5/(np.sqrt(A))\n",
    "    return B\n",
    "\n",
    "def BEN(A,Z):\n",
    "    return bindingEnergy(A,Z)/A\n",
    "\n",
    "def mostStableNucleus(Z, result='mben', printResults=True):\n",
    "    myList = [BEN(A,Z) for A in range(Z, 3*Z+1)]\n",
    "    \n",
    "    maxA= myList.index(max(myList))+Z\n",
    "    if printResults:\n",
    "        print('Maximum binding energy per nucleon: {:.3f} MeV'.format(max(myList)))\n",
    "        print('Nucleon number: {}'.format(maxA))\n",
    "        print('Atomic number: {}'.format(Z))\n",
    "    if result=='mben':\n",
    "        return max(myList)\n",
    "    if result=='A':\n",
    "        return maxA\n"
   ]
  },
  {
   "cell_type": "code",
   "execution_count": 3,
   "metadata": {},
   "outputs": [
    {
     "name": "stdout",
     "output_type": "stream",
     "text": [
      "Maximum binding energy per nucleon: 5.843 MeV\n",
      "Nucleon number: 4\n",
      "Atomic number: 2\n"
     ]
    },
    {
     "data": {
      "text/plain": [
       "5.843309761445089"
      ]
     },
     "execution_count": 3,
     "metadata": {},
     "output_type": "execute_result"
    }
   ],
   "source": [
    "bindingEnergy(58,28)\n",
    "mostStableNucleus(2)"
   ]
  },
  {
   "cell_type": "code",
   "execution_count": 4,
   "metadata": {},
   "outputs": [
    {
     "name": "stdout",
     "output_type": "stream",
     "text": [
      "Z: 1, A: 2, BEN: -2.546 MeV\n",
      "Z: 2, A: 4, BEN: 5.843 MeV\n",
      "Z: 3, A: 6, BEN: 4.752 MeV\n",
      "Z: 4, A: 8, BEN: 6.835 MeV\n",
      "Z: 5, A: 10, BEN: 6.423 MeV\n",
      "Z: 6, A: 12, BEN: 7.45 MeV\n",
      "Z: 7, A: 15, BEN: 7.276 MeV\n",
      "Z: 8, A: 16, BEN: 7.829 MeV\n",
      "Z: 9, A: 19, BEN: 7.757 MeV\n",
      "Z: 10, A: 20, BEN: 8.075 MeV\n",
      "Z: 11, A: 23, BEN: 8.048 MeV\n",
      "Z: 12, A: 24, BEN: 8.239 MeV\n",
      "Z: 13, A: 27, BEN: 8.234 MeV\n",
      "Z: 14, A: 28, BEN: 8.348 MeV\n",
      "Z: 15, A: 31, BEN: 8.355 MeV\n",
      "Z: 16, A: 32, BEN: 8.419 MeV\n",
      "Z: 17, A: 35, BEN: 8.433 MeV\n",
      "Z: 18, A: 36, BEN: 8.463 MeV\n",
      "Z: 19, A: 39, BEN: 8.481 MeV\n",
      "Z: 20, A: 41, BEN: 8.496 MeV\n",
      "Z: 21, A: 43, BEN: 8.506 MeV\n",
      "Z: 22, A: 46, BEN: 8.521 MeV\n",
      "Z: 23, A: 47, BEN: 8.514 MeV\n",
      "Z: 24, A: 50, BEN: 8.533 MeV\n",
      "Z: 25, A: 51, BEN: 8.51 MeV\n",
      "Z: 26, A: 54, BEN: 8.53 MeV\n",
      "Z: 27, A: 55, BEN: 8.495 MeV\n",
      "Z: 28, A: 58, BEN: 8.516 MeV\n",
      "Z: 29, A: 59, BEN: 8.471 MeV\n",
      "Z: 30, A: 62, BEN: 8.494 MeV\n",
      "Z: 31, A: 63, BEN: 8.441 MeV\n",
      "Z: 32, A: 66, BEN: 8.464 MeV\n",
      "Z: 33, A: 69, BEN: 8.407 MeV\n",
      "Z: 34, A: 70, BEN: 8.428 MeV\n",
      "Z: 35, A: 73, BEN: 8.379 MeV\n",
      "Z: 36, A: 74, BEN: 8.388 MeV\n",
      "Z: 37, A: 77, BEN: 8.344 MeV\n",
      "Z: 38, A: 78, BEN: 8.344 MeV\n",
      "Z: 39, A: 81, BEN: 8.305 MeV\n",
      "Z: 40, A: 82, BEN: 8.296 MeV\n",
      "Z: 41, A: 85, BEN: 8.262 MeV\n",
      "Z: 42, A: 86, BEN: 8.246 MeV\n",
      "Z: 43, A: 89, BEN: 8.215 MeV\n",
      "Z: 44, A: 92, BEN: 8.195 MeV\n",
      "Z: 45, A: 93, BEN: 8.166 MeV\n",
      "Z: 46, A: 96, BEN: 8.148 MeV\n",
      "Z: 47, A: 97, BEN: 8.114 MeV\n",
      "Z: 48, A: 100, BEN: 8.098 MeV\n",
      "Z: 49, A: 101, BEN: 8.06 MeV\n",
      "Z: 50, A: 104, BEN: 8.046 MeV\n",
      "Z: 51, A: 105, BEN: 8.004 MeV\n",
      "Z: 52, A: 108, BEN: 7.992 MeV\n",
      "Z: 53, A: 111, BEN: 7.946 MeV\n",
      "Z: 54, A: 112, BEN: 7.936 MeV\n",
      "Z: 55, A: 115, BEN: 7.894 MeV\n",
      "Z: 56, A: 116, BEN: 7.878 MeV\n",
      "Z: 57, A: 119, BEN: 7.839 MeV\n",
      "Z: 58, A: 120, BEN: 7.82 MeV\n",
      "Z: 59, A: 123, BEN: 7.783 MeV\n",
      "Z: 60, A: 124, BEN: 7.76 MeV\n",
      "Z: 61, A: 127, BEN: 7.726 MeV\n",
      "Z: 62, A: 130, BEN: 7.701 MeV\n",
      "Z: 63, A: 131, BEN: 7.667 MeV\n",
      "Z: 64, A: 134, BEN: 7.644 MeV\n",
      "Z: 65, A: 135, BEN: 7.608 MeV\n",
      "Z: 66, A: 138, BEN: 7.586 MeV\n",
      "Z: 67, A: 139, BEN: 7.547 MeV\n",
      "Z: 68, A: 142, BEN: 7.527 MeV\n",
      "Z: 69, A: 143, BEN: 7.486 MeV\n",
      "Z: 70, A: 146, BEN: 7.467 MeV\n",
      "Z: 71, A: 149, BEN: 7.428 MeV\n",
      "Z: 72, A: 150, BEN: 7.406 MeV\n",
      "Z: 73, A: 153, BEN: 7.369 MeV\n",
      "Z: 74, A: 154, BEN: 7.345 MeV\n",
      "Z: 75, A: 157, BEN: 7.31 MeV\n",
      "Z: 76, A: 158, BEN: 7.283 MeV\n",
      "Z: 77, A: 161, BEN: 7.25 MeV\n",
      "Z: 78, A: 164, BEN: 7.223 MeV\n",
      "Z: 79, A: 165, BEN: 7.189 MeV\n",
      "Z: 80, A: 168, BEN: 7.164 MeV\n",
      "Z: 81, A: 169, BEN: 7.127 MeV\n",
      "Z: 82, A: 172, BEN: 7.103 MeV\n",
      "Z: 83, A: 173, BEN: 7.065 MeV\n",
      "Z: 84, A: 176, BEN: 7.043 MeV\n",
      "Z: 85, A: 179, BEN: 7.006 MeV\n",
      "Z: 86, A: 180, BEN: 6.981 MeV\n",
      "Z: 87, A: 183, BEN: 6.946 MeV\n",
      "Z: 88, A: 184, BEN: 6.92 MeV\n",
      "Z: 89, A: 187, BEN: 6.886 MeV\n",
      "Z: 90, A: 190, BEN: 6.858 MeV\n",
      "Z: 91, A: 191, BEN: 6.825 MeV\n",
      "Z: 92, A: 194, BEN: 6.798 MeV\n",
      "Z: 93, A: 195, BEN: 6.764 MeV\n",
      "Z: 94, A: 198, BEN: 6.738 MeV\n",
      "Z: 95, A: 199, BEN: 6.702 MeV\n",
      "Z: 96, A: 202, BEN: 6.677 MeV\n",
      "Z: 97, A: 205, BEN: 6.641 MeV\n",
      "Z: 98, A: 206, BEN: 6.617 MeV\n",
      "Z: 99, A: 209, BEN: 6.582 MeV\n",
      "Z: 100, A: 210, BEN: 6.555 MeV\n",
      "Maximum BEN: 8.532622751365931, Atomic number: 24, Nucleon number: 50\n"
     ]
    }
   ],
   "source": [
    "benList=[]\n",
    "for Z in range(1,101):\n",
    "    benList.append(mostStableNucleus(Z, result='mben' , printResults=False))\n",
    "    A=mostStableNucleus(Z, result='A' , printResults=False)\n",
    "    ben= mostStableNucleus(Z, printResults=False)\n",
    "    print(f'Z: {Z}, A: {A}, BEN: {np.round(ben,3)} MeV')\n",
    "mostStableZ=benList.index(max(benList))+1\n",
    "mostStableA=mostStableNucleus(mostStableZ, result='A', printResults=False)\n",
    "print(f'Maximum BEN: {max(benList)}, Atomic number: {mostStableZ}, Nucleon number: {mostStableA}')\n"
   ]
  },
  {
   "cell_type": "markdown",
   "metadata": {},
   "source": [
    "Binomial Coefficients"
   ]
  },
  {
   "cell_type": "code",
   "execution_count": 5,
   "metadata": {},
   "outputs": [],
   "source": [
    "def binomial(n,k):\n",
    "    running_denom, running_prod = 1, 1\n",
    "    for i in range(1,k+1):\n",
    "        running_denom *= i \n",
    "    for j in range(n-k+1, n+1):\n",
    "        running_prod *= j \n",
    "    return int(running_prod/running_denom)"
   ]
  },
  {
   "cell_type": "code",
   "execution_count": 6,
   "metadata": {},
   "outputs": [
    {
     "name": "stdout",
     "output_type": "stream",
     "text": [
      "1 1\n",
      "1 2 1\n",
      "1 3 3 1\n",
      "1 4 6 4 1\n",
      "1 5 10 10 5 1\n",
      "1 6 15 20 15 6 1\n",
      "1 7 21 35 35 21 7 1\n",
      "1 8 28 56 70 56 28 8 1\n",
      "1 9 36 84 126 126 84 36 9 1\n",
      "1 10 45 120 210 252 210 120 45 10 1\n",
      "1 11 55 165 330 462 462 330 165 55 11 1\n",
      "1 12 66 220 495 792 924 792 495 220 66 12 1\n",
      "1 13 78 286 715 1287 1716 1716 1287 715 286 78 13 1\n",
      "1 14 91 364 1001 2002 3003 3432 3003 2002 1001 364 91 14 1\n",
      "1 15 105 455 1365 3003 5005 6435 6435 5005 3003 1365 455 105 15 1\n",
      "1 16 120 560 1820 4368 8008 11440 12870 11440 8008 4368 1820 560 120 16 1\n",
      "1 17 136 680 2380 6188 12376 19448 24310 24310 19448 12376 6188 2380 680 136 17 1\n",
      "1 18 153 816 3060 8568 18564 31824 43758 48620 43758 31824 18564 8568 3060 816 153 18 1\n",
      "1 19 171 969 3876 11628 27132 50388 75582 92378 92378 75582 50388 27132 11628 3876 969 171 19 1\n",
      "1 20 190 1140 4845 15504 38760 77520 125970 167960 184756 167960 125970 77520 38760 15504 4845 1140 190 20 1\n"
     ]
    }
   ],
   "source": [
    "for n in range(1,21):\n",
    "    myList=[]\n",
    "    for k in range(0,n+1):\n",
    "        myList.append(binomial(n,k))\n",
    "    print(*myList)"
   ]
  },
  {
   "cell_type": "markdown",
   "metadata": {},
   "source": [
    "Plotting"
   ]
  },
  {
   "cell_type": "code",
   "execution_count": null,
   "metadata": {},
   "outputs": [],
   "source": []
  }
 ],
 "metadata": {
  "kernelspec": {
   "display_name": "Python 3.9.7 ('base')",
   "language": "python",
   "name": "python3"
  },
  "language_info": {
   "codemirror_mode": {
    "name": "ipython",
    "version": 3
   },
   "file_extension": ".py",
   "mimetype": "text/x-python",
   "name": "python",
   "nbconvert_exporter": "python",
   "pygments_lexer": "ipython3",
   "version": "3.9.7"
  },
  "orig_nbformat": 4,
  "vscode": {
   "interpreter": {
    "hash": "b585a70d5ba3366bec34bcef3abe5897366cb631c247f87a4b6d516df4dc3fe2"
   }
  }
 },
 "nbformat": 4,
 "nbformat_minor": 2
}
