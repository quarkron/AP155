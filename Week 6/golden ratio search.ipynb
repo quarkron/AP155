{
 "cells": [
  {
   "cell_type": "code",
   "execution_count": 1,
   "metadata": {},
   "outputs": [],
   "source": [
    "import numpy as np\n",
    "import matplotlib.pyplot as plt"
   ]
  },
  {
   "cell_type": "code",
   "execution_count": 19,
   "metadata": {},
   "outputs": [],
   "source": [
    "def f(x):\n",
    "    return x"
   ]
  },
  {
   "cell_type": "code",
   "execution_count": 26,
   "metadata": {},
   "outputs": [
    {
     "data": {
      "text/plain": [
       "-9.999999518071562"
      ]
     },
     "execution_count": 26,
     "metadata": {},
     "output_type": "execute_result"
    }
   ],
   "source": [
    "def golden_search_min(f, x1, x4, epsilon):\n",
    "    gr = (1+np.sqrt(5))/2\n",
    "    x3 = (x4 + (gr-1)*x1)/gr\n",
    "    x2 = x1 + x4 - x3 \n",
    "    while abs(x4-x1) > epsilon:\n",
    "        if f(x2) <= f(x3):\n",
    "            x4, x3 = x3, x2 \n",
    "            x2 = x1+x4-x3\n",
    "        if f(x3) < f(x2):\n",
    "            x1, x2 = x2, x3 \n",
    "            x3 = x1 + x4 - x2\n",
    "    return (x2+x3)/2\n",
    "\n",
    "\n",
    "golden_search_min(f,-10,10,1e-6)\n"
   ]
  }
 ],
 "metadata": {
  "kernelspec": {
   "display_name": "Python 3.9.7 ('base')",
   "language": "python",
   "name": "python3"
  },
  "language_info": {
   "codemirror_mode": {
    "name": "ipython",
    "version": 3
   },
   "file_extension": ".py",
   "mimetype": "text/x-python",
   "name": "python",
   "nbconvert_exporter": "python",
   "pygments_lexer": "ipython3",
   "version": "3.9.7"
  },
  "orig_nbformat": 4,
  "vscode": {
   "interpreter": {
    "hash": "b585a70d5ba3366bec34bcef3abe5897366cb631c247f87a4b6d516df4dc3fe2"
   }
  }
 },
 "nbformat": 4,
 "nbformat_minor": 2
}
