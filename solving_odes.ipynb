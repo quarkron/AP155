{
 "cells": [
  {
   "cell_type": "markdown",
   "id": "916ef2a9-567b-4a63-8599-74237842aa27",
   "metadata": {},
   "source": [
    "## Ordinary Differential Equations ##"
   ]
  },
  {
   "cell_type": "markdown",
   "id": "8890be86-95d9-433a-8841-ab4db7a94a34",
   "metadata": {},
   "source": [
    "We'll tackle differential equations in two parts: ordinary differential equations (ODE's) and partial differential equation (PDE's). Sample ODE's: equations of motion of rigid bodies, electrical circuits "
   ]
  },
  {
   "cell_type": "markdown",
   "id": "e3200a68-3df7-4b31-83da-7c21e824f5cf",
   "metadata": {},
   "source": [
    "Definitions - watch https://sites.science.oregonstate.edu/~landaur/Books/CPbook/eBook/Lectures/mp4Lecs/ODEs_ipad.html \n",
    "\n",
    "Quickly: ordinary (1 independent variable), order (order of derivative), nonlinear (power isn't 1 for the dependent variables and derivatives, e.g. y(t), dy/dt)"
   ]
  },
  {
   "cell_type": "markdown",
   "id": "30e41998-d057-4be4-b3d5-c1351dba6b7f",
   "metadata": {},
   "source": [
    "<img src=\"./newman/fig8-1.png\" width=\"600\"><br>"
   ]
  },
  {
   "cell_type": "markdown",
   "id": "3c955066-53fb-4f1b-8fb9-6ebf62ddebc9",
   "metadata": {},
   "source": [
    "<img src=\"./newman/fig7-2a.png\" width=\"600\"><br>"
   ]
  },
  {
   "cell_type": "markdown",
   "id": "df17aacf-4da2-4ad8-bc16-7b34a4c7c0b5",
   "metadata": {},
   "source": [
    "<img src=\"./newman/fig8-2.png\" width=\"600\"><br>"
   ]
  },
  {
   "cell_type": "markdown",
   "id": "9d99d0e8-16dc-45ca-b688-f281b34e3640",
   "metadata": {},
   "source": [
    "<img src=\"./newman/fig8-3.png\" width=\"600\"><br>"
   ]
  },
  {
   "cell_type": "markdown",
   "id": "0b33dcb2-9628-4d62-b54a-6687f9c3a0f7",
   "metadata": {},
   "source": [
    "<img src=\"./newman/fig8-4.png\" width=\"600\"><br>"
   ]
  },
  {
   "cell_type": "markdown",
   "id": "7333f130-76c9-4a37-a495-e000a5ae8a44",
   "metadata": {},
   "source": [
    "<img src=\"./newman/fig8-5.png\" width=\"600\"><br>"
   ]
  },
  {
   "cell_type": "markdown",
   "id": "241d59af-ef0e-4f48-8718-2810287c53d7",
   "metadata": {},
   "source": [
    "<img src=\"./newman/fig8-6.png\" width=\"600\"><br>"
   ]
  },
  {
   "cell_type": "markdown",
   "id": "5815c5fd-86d8-43a0-9a8b-72ee3e8264f0",
   "metadata": {},
   "source": [
    "<img src=\"./newman/fig8-7.png\" width=\"600\"><br>"
   ]
  },
  {
   "cell_type": "markdown",
   "id": "3b9c8ce0-6c93-4444-ab07-8344e072c219",
   "metadata": {},
   "source": [
    "<img src=\"./newman/fig8-8.png\" width=\"600\"><br>"
   ]
  },
  {
   "cell_type": "markdown",
   "id": "3e508bb2-d4b4-4637-8f16-4e59ca6fe736",
   "metadata": {},
   "source": [
    "<img src=\"./newman/fig8-9.png\" width=\"600\"><br>"
   ]
  },
  {
   "cell_type": "markdown",
   "id": "4e1679ff-1ad2-4cf7-96ea-b131920e7083",
   "metadata": {},
   "source": [
    "<img src=\"./newman/fig8-10.png\" width=\"600\"><br>"
   ]
  },
  {
   "cell_type": "markdown",
   "id": "59a0de91-6911-415f-a289-ac90244c4c3d",
   "metadata": {},
   "source": [
    "<img src=\"./newman/fig8-11.png\" width=\"600\"><br>"
   ]
  },
  {
   "cell_type": "markdown",
   "id": "b01119d6-aac5-441b-877b-c07e4e50ea70",
   "metadata": {},
   "source": [
    "<img src=\"./newman/fig8-12.png\" width=\"600\"><br>"
   ]
  },
  {
   "cell_type": "code",
   "execution_count": null,
   "id": "73b1e073-355d-462b-b1f7-24298083eb01",
   "metadata": {},
   "outputs": [],
   "source": []
  }
 ],
 "metadata": {
  "kernelspec": {
   "display_name": "Python (ap155)",
   "language": "python",
   "name": "ap155"
  },
  "language_info": {
   "codemirror_mode": {
    "name": "ipython",
    "version": 3
   },
   "file_extension": ".py",
   "mimetype": "text/x-python",
   "name": "python",
   "nbconvert_exporter": "python",
   "pygments_lexer": "ipython3",
   "version": "3.10.6"
  }
 },
 "nbformat": 4,
 "nbformat_minor": 5
}
