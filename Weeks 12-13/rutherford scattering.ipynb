{
 "cells": [
  {
   "cell_type": "code",
   "execution_count": 48,
   "metadata": {},
   "outputs": [],
   "source": [
    "import numpy as np\n",
    "from random import *\n",
    "from numpy.random import *\n",
    "import matplotlib.pyplot as plt\n",
    "from math import sqrt,log,cos,sin,pi"
   ]
  },
  {
   "attachments": {},
   "cell_type": "markdown",
   "metadata": {},
   "source": [
    "## Rutherford scattering angle\n",
    "$$\n",
    "\\tan \\frac{1}{2}\\theta = \\frac{Ze^2}{2\\pi \\epsilon_0 E b}\n",
    "$$\n",
    "where $\\theta$ is the scattering angle, $Z$ atomic number of nucleus, $e$ fundamental unit charge, $E$ energy of the incident particle, $b$ the impact parameter. The threshold impact parameter for a particle to \"bounce back\" is:\n",
    "$$\n",
    "b = \\frac{Ze^2}{2\\pi \\epsilon_0 E}\n",
    "$$\n",
    "If $b$ is less than this value, the particle bounces back. Suppose we fire $N= 1 \\times 10^6$ $\\alpha$ particles with $E = 7.7 \\text{MeV}$ with a Gaussian profile in both its $x$ and $y$ axes with\n",
    "standard deviation $\\sigma = a_0/100$, where $a_0$ is the Bohr radius. We count the number of $\\alpha$ particles bouncing back."
   ]
  },
  {
   "cell_type": "code",
   "execution_count": 82,
   "metadata": {},
   "outputs": [
    {
     "name": "stdout",
     "output_type": "stream",
     "text": [
      "Number of reflected particles is: 1489\n",
      "Fraction of reflected particles is: 0.001489\n",
      "2.954469370043929e-14\n"
     ]
    }
   ],
   "source": [
    "Z = 79\n",
    "e = 1.602e-19 \n",
    "E = 7.7e6*e \n",
    "epsilon0 = 8.854e-12 \n",
    "a0 = 5.292e-11 \n",
    "sigma = a0/100\n",
    "N = 1000000\n",
    "resolution = 1e-16\n",
    "\n",
    "threshold = Z*e*e/(2*np.pi*epsilon0*E)\n",
    "\n",
    "x = np.random.normal(scale=sigma, size=N)\n",
    "y= np.random.normal(scale=sigma, size = N)\n",
    "arr1 = np.sqrt(x**2 + y**2)\n",
    "\n",
    "reflect_count = np.sum(arr1<threshold)\n",
    "print('Number of reflected particles is: {}'.format(reflect_count))\n",
    "print('Fraction of reflected particles is: {}'.format(reflect_count/N))\n",
    "print(threshold)\n"
   ]
  },
  {
   "cell_type": "code",
   "execution_count": 59,
   "metadata": {},
   "outputs": [
    {
     "data": {
      "text/plain": [
       "[<matplotlib.lines.Line2D at 0x1f42566bf10>]"
      ]
     },
     "execution_count": 59,
     "metadata": {},
     "output_type": "execute_result"
    },
    {
     "data": {
      "image/png": "[encoded data removed]",
      "text/plain": [
       "<Figure size 432x288 with 1 Axes>"
      ]
     },
     "metadata": {
      "needs_background": "light"
     },
     "output_type": "display_data"
    }
   ],
   "source": [
    "import scipy.stats as stats\n",
    "arr=[]\n",
    "for i in range(1000):\n",
    "    X,Y = gaussian() \n",
    "    arr.append(sqrt(X*X + Y*Y))\n",
    "arr.sort()\n",
    "arr_mean = np.mean(arr)\n",
    "arr_std = np.std(arr)\n",
    "pdf = stats.norm.pdf(arr, arr_mean, arr_std)\n",
    "plt.plot(arr, pdf)\n",
    "\n"
   ]
  }
 ],
 "metadata": {
  "kernelspec": {
   "display_name": "base",
   "language": "python",
   "name": "python3"
  },
  "language_info": {
   "codemirror_mode": {
    "name": "ipython",
    "version": 3
   },
   "file_extension": ".py",
   "mimetype": "text/x-python",
   "name": "python",
   "nbconvert_exporter": "python",
   "pygments_lexer": "ipython3",
   "version": "3.9.7"
  },
  "orig_nbformat": 4,
  "vscode": {
   "interpreter": {
    "hash": "b585a70d5ba3366bec34bcef3abe5897366cb631c247f87a4b6d516df4dc3fe2"
   }
  }
 },
 "nbformat": 4,
 "nbformat_minor": 2
}
