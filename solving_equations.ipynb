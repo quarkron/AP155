{
 "cells": [
  {
   "cell_type": "markdown",
   "id": "3fb81ef1-2635-4f36-8025-2b2ac3bc9c06",
   "metadata": {},
   "source": [
    "From Newman, Chapter 6\n",
    "\n",
    "## Binary search method / Bisection method ##\n",
    "\n",
    "<img src=\"./newman/fig6-3.png\" width=\"300\"><br>\n",
    "**Fig 6.3. The binary search method.** If $f(x_1)$ and $f(x_2)$ have opposite signs, one positive and one negative, and if $f(x)$ is continuous from $x_1$ to $x_2$, then there must be at least one root of $f(x)$ between $x_1$ and $x_2$. By looking at the sign of the function at the midpoint between $x_1$ and $x_2$ denoted $x'$ here, we can determine whether the root lies in the left or the right half of the interval."
   ]
  },
  {
   "cell_type": "markdown",
   "id": "a5e7f8a9-f04f-4787-a233-3f9d2007f5e4",
   "metadata": {},
   "source": [
    "<img src=\"./newman/fig6-4.png\" width=\"300\"><br>\n",
    "**Fig 6.4. An even number of roots bracketed between two points.** If the points $x_1$ and $x_2$ bracket an even number of roots - four in this case -- then $f(x_1)$ and $f(x_2)$ have the same sign and the binary search method fails.\n"
   ]
  },
  {
   "cell_type": "markdown",
   "id": "cffd23a4-2589-456c-a23a-ea3bd985ddc2",
   "metadata": {},
   "source": [
    "<img src=\"./newman/fig6-5.png\" width=\"300\"><br>\n",
    "**Fig 6.5. A function with a double root.** A function such as $(1-x)^2$ that has two roots in the same place (or any even number of roots) only touches the horizontal axis but does not cross it. "
   ]
  },
  {
   "cell_type": "markdown",
   "id": "333eb654-6f34-4f68-a961-b19ee3d6ab27",
   "metadata": {},
   "source": [
    "<img src=\"./newman/fig6-6.png\" width=\"300\"><br>\n",
    "**Fig 6.6. Newton's method.** Newton's method takes a single estimate $x$ of the root of a function and uses the slope of the function at that point to extrapolate a better estimate $x'$."
   ]
  },
  {
   "cell_type": "markdown",
   "id": "6878cf0c-e71d-4742-98af-a39bd576f10a",
   "metadata": {},
   "source": [
    "<img src=\"./newman/fig6-7.png\" width=\"300\"><br>\n",
    "**Fig 6.7. Failure of Newton's method.** Newton's method can fail to converge toward a root if the shape of the function is unfavorable. In this example, the initial guess $x$ is an unlucky one, and the next estimate $x'$ actually falls further from the root."
   ]
  },
  {
   "cell_type": "markdown",
   "id": "db3c52ab-eeb1-458a-b351-cbc1a1ddcd5f",
   "metadata": {},
   "source": [
    "<img src=\"./newman/fig6-8.png\" width=\"300\"><br>\n",
    "**Fig 6.8. Local and global minima of a function.**"
   ]
  },
  {
   "cell_type": "markdown",
   "id": "0cb26651-e519-4450-a5d9-3269770019b4",
   "metadata": {},
   "source": [
    "<img src=\"./newman/fig6-9.png\" width=\"300\"><br>\n",
    "**Fig 6.9. Golden ratio search.** Suppose there is a minimum of the function $f(x)$ between $x_1$ and $x_4$. If the function is lower at $x_2$ than at $x_3$, as shown here, then we know the minimum must lie between $x_1$ and $x_3$; otherwise, it lies between $x_2$ and $x_4$. Either way, we have narrowed the range in which it lies."
   ]
  },
  {
   "cell_type": "markdown",
   "id": "8fca3d33",
   "metadata": {},
   "source": [
    "## Root-finding Algorithms"
   ]
  },
  {
   "cell_type": "code",
   "execution_count": 64,
   "id": "1e9cbafc-abf5-4fc0-9fb4-4a822d84c946",
   "metadata": {},
   "outputs": [],
   "source": [
    "import numpy as np \n",
    "import matplotlib.pyplot as plt\n",
    "\n",
    "def midpoint(left, right):\n",
    "    return (left+right)/2.\n",
    "\n",
    "def bisection(f, a, b, resolution, show_iters=False):\n",
    "    left = a\n",
    "    right = b\n",
    "    midpt = midpoint(left, right)\n",
    "    iters = 0\n",
    "    assert (f(left)*f(right))<0, \"Can't use the bisection method - zero or even number of crossings\"\n",
    "    while (right-midpt) > resolution:\n",
    "        iters += 1\n",
    "        if (f(left)*f(midpt)) <= 0: #crossing occurred\n",
    "            right = midpt\n",
    "        else:\n",
    "            left = midpt\n",
    "        midpt = midpoint(left, right)\n",
    "    if show_iters:\n",
    "        print('Iterations:', iters)\n",
    "    return midpt, resolution\n",
    "\n",
    "def golden_section(f,x1,x4, epsilon, show_iters=False):\n",
    "    gr = (1+np.sqrt(5))/2\n",
    "    x3 = (x4 + (gr-1)*x1)/gr \n",
    "    x2 = (x3 + (gr-1)*x1)/gr \n",
    "    iters = 0\n",
    "    assert (f(x1)*f(x4))<0, \"Can't use this method.\"\n",
    "    while abs(x4-x1) > epsilon:\n",
    "        iters += 1\n",
    "        if f(x1)*f(x3) <= 0: #root in between x1 and x3\n",
    "            x4, x3 = x3, x2 \n",
    "            x2 = (x3 + (gr-1)*x1)/gr \n",
    "        if f(x1)*f(x3) > 0: #root between x2 and x4\n",
    "            x1, x2 = x2, x3 \n",
    "            x3 = (x4 + (gr-1)*x1)/gr \n",
    "    if show_iters:\n",
    "        print('Iterations:', iters)\n",
    "    return (x2+x3)/2, epsilon\n",
    "\n",
    "\n",
    "#Newton's method\n",
    "def newton_step(f,slope,x):\n",
    "    delta_x = f(x)/slope(x) \n",
    "    x_prime = x-delta_x \n",
    "    return x_prime, delta_x \n",
    "\n",
    "def newton(f,slope, x_init, resolution, max_iters = 10000):\n",
    "    x, delta_x = newton_step(f, slope, x_init)\n",
    "    iters = 0\n",
    "    while abs(delta_x) > resolution and iters <= max_iters:\n",
    "        x, delta_x = newton_step(f,slope,x)\n",
    "        iters = iters + 1\n",
    "    return x, delta_x\n",
    "\n",
    "\n",
    "#Secant method\n",
    "def secant(f, x1, x2, resolution, max_iters = 10000, iters = 1): \n",
    "    delta_x = f(x2)*(x2-x1)/(f(x2)-f(x1))\n",
    "    x3 = x2 - delta_x\n",
    "    while abs(delta_x) > resolution and iters <= max_iters:\n",
    "        x2, x1 = x3, x2\n",
    "        return secant(f, x1, x2, resolution=resolution, max_iters=max_iters, iters=iters + 1)\n",
    "    print('Recursion depth:', iters)\n",
    "    return x3\n"
   ]
  },
  {
   "cell_type": "markdown",
   "id": "9f522a01",
   "metadata": {},
   "source": [
    "## Relative minimum-finding"
   ]
  },
  {
   "cell_type": "code",
   "execution_count": 20,
   "id": "edc89ced",
   "metadata": {},
   "outputs": [],
   "source": [
    "def golden_min_iter(f, x1, x4, epsilon):\n",
    "    gr = (1+np.sqrt(5))/2\n",
    "    x3 = (x4 + (gr-1)*x1)/gr \n",
    "    x2 = x1 + x4 - x3  \n",
    "    while abs(x4-x1) > epsilon:\n",
    "        if f(x2) <= f(x3):\n",
    "            x4, x3 = x3, x2 \n",
    "            x2 = x1+x4-x3\n",
    "        if f(x3) < f(x2):\n",
    "            x1, x2 = x2, x3 \n",
    "            x3 = x1 + x4 - x2\n",
    "    return (x2+x3)/2\n",
    "\n",
    "def golden_min(f, x1, x4, epsilon, gr = (1+np.sqrt(5))/2):\n",
    "    x3 = (x4 + (gr-1)*x1)/gr \n",
    "    x2 = (x3 + (gr-1)*x1)/gr \n",
    "    while abs(x4-x1) > epsilon:\n",
    "        if f(x2) <= f(x3):\n",
    "            x4, x3 = x3, x2 \n",
    "        if f(x3) < f(x2):\n",
    "            x1, x2 = x2, x3 \n",
    "        return golden_min(f, x1, x4, epsilon)\n",
    "    return (x2+x3)/2"
   ]
  },
  {
   "cell_type": "code",
   "execution_count": 16,
   "id": "22796928",
   "metadata": {},
   "outputs": [
    {
     "name": "stdout",
     "output_type": "stream",
     "text": [
      "Recursion depth: 8\n"
     ]
    },
    {
     "data": {
      "text/plain": [
       "3.1415926535897936"
      ]
     },
     "execution_count": 16,
     "metadata": {},
     "output_type": "execute_result"
    }
   ],
   "source": []
  },
  {
   "cell_type": "markdown",
   "id": "cb2b27d8-0fcf-4ff0-b761-1faf5ada1c67",
   "metadata": {},
   "source": []
  }
 ],
 "metadata": {
  "kernelspec": {
   "display_name": "Python 3.9.7 ('base')",
   "language": "python",
   "name": "python3"
  },
  "language_info": {
   "codemirror_mode": {
    "name": "ipython",
    "version": 3
   },
   "file_extension": ".py",
   "mimetype": "text/x-python",
   "name": "python",
   "nbconvert_exporter": "python",
   "pygments_lexer": "ipython3",
   "version": "3.9.7"
  },
  "vscode": {
   "interpreter": {
    "hash": "b585a70d5ba3366bec34bcef3abe5897366cb631c247f87a4b6d516df4dc3fe2"
   }
  }
 },
 "nbformat": 4,
 "nbformat_minor": 5
}
