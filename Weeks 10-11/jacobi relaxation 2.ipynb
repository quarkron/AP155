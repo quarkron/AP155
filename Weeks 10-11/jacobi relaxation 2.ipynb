{
 "cells": [
  {
   "cell_type": "code",
   "execution_count": 183,
   "metadata": {},
   "outputs": [],
   "source": [
    "import numpy as np \n",
    "import matplotlib.pyplot as plt\n"
   ]
  },
  {
   "cell_type": "code",
   "execution_count": 184,
   "metadata": {},
   "outputs": [],
   "source": [
    "def l2_diff(f1, f2):\n",
    "    \"\"\"\n",
    "    Computes the l2-norm of the difference\n",
    "    between a function f1 and a function f2\n",
    "    \n",
    "    Parameters\n",
    "    ----------\n",
    "    f1 : array of floats\n",
    "        function 1\n",
    "    f2 : array of floats\n",
    "        function 2\n",
    "    \n",
    "    Returns\n",
    "    -------\n",
    "    diff : float\n",
    "        The l2-norm of the difference.\n",
    "    \"\"\"\n",
    "    l2_diff = np.sqrt(np.sum((f1 - f2)**2))/f1.shape[0]\n",
    "    \n",
    "    return l2_diff"
   ]
  },
  {
   "cell_type": "markdown",
   "metadata": {},
   "source": [
    "In this problem, we investigate the Poisson equation: \n",
    "$$ \n",
    "\\nabla^2 p(x,y) = b(x,y)\n",
    "$$\n",
    "where \n",
    "$$\n",
    "b(x,y) = \\sin(\\pi x)\\cos(\\pi y) + \\sin(5\\pi x)\\cos (5\\pi y)\n",
    "$$\n",
    "whose exact solution is known analytically\n",
    "$$\n",
    "p_e = -\\frac{1}{2\\pi^2}\\sin(\\pi x)\\cos(\\pi y) - \\frac{1}{50\\pi ^2}\\sin(5\\pi x)\\cos(5\\pi y)\n",
    "$$"
   ]
  },
  {
   "cell_type": "code",
   "execution_count": 185,
   "metadata": {},
   "outputs": [],
   "source": [
    "# Grid parameters.\n",
    "nx = 101                  # number of points in the x direction\n",
    "ny = 101                  # number of points in the y direction\n",
    "xmin, xmax = 0.0, 1.0     # limits in the x direction\n",
    "ymin, ymax = -0.5, 0.5    # limits in the y direction\n",
    "lx = xmax - xmin          # domain length in the x direction\n",
    "ly = ymax - ymin          # domain length in the y direction\n",
    "dx = lx / (nx-1)          # grid spacing in the x direction\n",
    "dy = ly / (ny-1)          # grid spacing in the y direction"
   ]
  },
  {
   "cell_type": "code",
   "execution_count": 186,
   "metadata": {},
   "outputs": [],
   "source": [
    "# Create the gridline locations and the mesh grid;\n",
    "# see notebook 02_02_Runge_Kutta for more details\n",
    "x = np.linspace(xmin, xmax, nx)\n",
    "y = np.linspace(ymin, ymax, ny)\n",
    "# We pass the argument `indexing='ij'` to np.meshgrid\n",
    "# as x and y should be associated respectively with the\n",
    "# rows and columns of X, Y.\n",
    "X, Y = np.meshgrid(x, y, indexing='ij')\n",
    "\n",
    "# Compute the rhs. Note that we non-dimensionalize the coordinates\n",
    "# x and y with the size of the domain in their respective dire-\n",
    "# ctions.\n",
    "b = (np.sin(np.pi*X)*np.cos(np.pi*Y)\n",
    "  + np.sin(5.0*np.pi*X)*np.cos(5.0*np.pi*Y))\n",
    "\n",
    "\n",
    "# Allocate array for the (full) solution, including boundary values\n",
    "p = np.empty((nx, ny))"
   ]
  },
  {
   "cell_type": "code",
   "execution_count": 187,
   "metadata": {},
   "outputs": [],
   "source": [
    "def p_exact_2d(X, Y):\n",
    "    \"\"\"Computes the exact solution of the Poisson equation in the domain\n",
    "    [0, 1]x[-0.5, 0.5] with rhs:\n",
    "    b = (np.sin(np.pi * X) * np.cos(np.pi * Y) +\n",
    "    np.sin(5.0 * np.pi * X) * np.cos(5.0 * np.pi * Y))\n",
    "\n",
    "    Parameters\n",
    "    ----------\n",
    "    X : numpy.ndarray\n",
    "        array of x coordinates for all grid points\n",
    "    Y : numpy.ndarray\n",
    "        array of y coordinates for all grid points\n",
    "\n",
    "    Returns\n",
    "    -------\n",
    "    sol : numpy.ndarray\n",
    "        exact solution of the Poisson equation\n",
    "    \"\"\"\n",
    "\n",
    "    sol = (-1.0/(2.0*np.pi**2)*np.sin(np.pi*X)*np.cos(np.pi*Y)\n",
    "        - 1.0/(50.0*np.pi**2)*np.sin(5.0*np.pi*X)*np.cos(5.0*np.pi*Y))\n",
    "\n",
    "    return sol"
   ]
  },
  {
   "cell_type": "markdown",
   "metadata": {},
   "source": [
    "## Jacobi Relaxation Method\n",
    "\n",
    "Initial guess $p_{i,j}^0$:\n",
    "$$\n",
    "p_{i, j}=\\frac{1}{4}\\left(p_{i-1, j}+p_{i+1, j}+p_{i, j-1}+p_{i, j+1}\\right)-\\frac{1}{4} b_{i, j} \\Delta^2\n",
    "$$\n",
    "Updated guess \n",
    "$$\n",
    "p_{i, j}^1=\\frac{1}{4}\\left(p_{i-1, j}^0+p_{i+1, j}^0+p_{i, j-1}^0+p_{i, j+1}^0\\right)-\\frac{1}{4} b_{i, j} \\Delta^2\n",
    "$$\n",
    "Iterative form: \n",
    "$$\n",
    "p_{i, j}^{k+1}=\\frac{1}{4}\\left(p_{i-1, j}^k+p_{i+1, j}^k+p_{i, j-1}^k+p_{i, j+1}^k\\right)-\\frac{1}{4} b_{i, j} \\Delta^2\n",
    "$$\n",
    "Here, $\\Delta$ is the (isotropic) grid spacing"
   ]
  },
  {
   "cell_type": "code",
   "execution_count": 188,
   "metadata": {},
   "outputs": [],
   "source": [
    "def b(X,Y):\n",
    "    return 0*X + 0*Y\n",
    "def gauss_seidel2D(M, b, xlims, ylims, boundary, tolerance=1e-10, max_it=100000):\n",
    "    # Boundary array is defined as: left, right, bottom, up\n",
    "    # Grid parameters\n",
    "    nx, ny = M+1, M+1                         # number of points in the x and y direction\n",
    "    #xlims, ylims = np.array(xlims), np.array(ylims)                       \n",
    "    xmin, xmax = xlims[0], xlims[1]           # limits in the x direction\n",
    "    ymin, ymax = ylims[0], ylims[1]           # limits in the y direction\n",
    "    lx, ly = xmax - xmin, ymax - ymin         # domain length in the x, and y direction\n",
    "    dx = lx/(nx-1)                            # grid spacing in the x direction\n",
    "    dy = ly/(ny-1)                            # grid spacing in the y direction\n",
    "\n",
    "    # Create the gridline locations and the mesh grid;\n",
    "    x = np.linspace(xmin, xmax, nx)\n",
    "    y = np.linspace(ymin, ymax, ny)\n",
    "    X, Y = np.meshgrid(x, y, indexing='ij')\n",
    "    b = b(X,Y)\n",
    "    p = np.zeros((nx, ny))\n",
    "    p[0,:], p[-1,:], p[:,0], p[:,-1] = boundary[0], boundary[1], boundary[2], boundary[3] #left, right, bottom, up\n",
    "    pnew = p.copy()\n",
    "\n",
    "    it = 0 # iteration counter\n",
    "    diff = 1.0\n",
    "    tol_hist_jac = []\n",
    "\n",
    "    while (diff > tolerance):\n",
    "        if it > max_it:\n",
    "            print('\\nSolution did not converge within the maximum'\n",
    "                    ' number of iterations'\n",
    "                    f'\\nLast diff was: {diff:.5e}')\n",
    "            break\n",
    "        np.copyto(p, pnew)\n",
    "        pnew[1:-1, 1:-1] = (0.25*(p[:-2, 1:-1]+p[2:, 1:-1]+p[1:-1, :-2]\n",
    "                        + p[1:-1, 2:]-b[1:-1, 1:-1]*dx**2))\n",
    "        diff = np.max(abs(pnew-p))\n",
    "        tol_hist_jac.append(diff)\n",
    "        it += 1\n",
    "    print(f'\\nThe solution converged after {it} iterations')\n",
    "    return [X,Y,pnew]"
   ]
  },
  {
   "cell_type": "code",
   "execution_count": 189,
   "metadata": {},
   "outputs": [
    {
     "name": "stdout",
     "output_type": "stream",
     "text": [
      "\n",
      "The solution converged after 29396 iterations\n",
      "\n",
      "The solution converged after 29396 iterations\n",
      "\n",
      "The solution converged after 29396 iterations\n",
      "\n",
      "The solution converged after 29396 iterations\n"
     ]
    }
   ],
   "source": [
    "laplace1=gauss_seidel2D(100, b, [0.0,1.0], [-0.5, 0.5], [1,0,0,0])\n",
    "laplace2=gauss_seidel2D(100, b, [0.0,1.0], [-0.5, 0.5], [0,1,0,0])\n",
    "laplace3=gauss_seidel2D(100, b, [0.0,1.0], [-0.5, 0.5], [0,0,1,0])\n",
    "laplace4=gauss_seidel2D(100, b, [0.0,1.0], [-0.5, 0.5], [0,0,0,1])"
   ]
  },
  {
   "cell_type": "code",
   "execution_count": 190,
   "metadata": {},
   "outputs": [
    {
     "data": {
      "image/png": "[encoded data removed]",
      "text/plain": [
       "<Figure size 432x288 with 2 Axes>"
      ]
     },
     "metadata": {
      "needs_background": "light"
     },
     "output_type": "display_data"
    }
   ],
   "source": [
    "fig,ax = plt.subplots()\n",
    "contour = ax.contourf(laplace4[0], laplace4[1], laplace4[2], 100)\n",
    "cbar = fig.colorbar(contour)\n"
   ]
  },
  {
   "cell_type": "code",
   "execution_count": 206,
   "metadata": {},
   "outputs": [
    {
     "name": "stdout",
     "output_type": "stream",
     "text": [
      "\n",
      "The solution converged after 14603 iterations\n"
     ]
    },
    {
     "data": {
      "image/png": "[encoded data removed]",
      "text/plain": [
       "<Figure size 432x288 with 2 Axes>"
      ]
     },
     "metadata": {
      "needs_background": "light"
     },
     "output_type": "display_data"
    }
   ],
   "source": [
    "import numpy as np\n",
    "import matplotlib.pyplot as plt\n",
    "\n",
    "def f(X,Y):\n",
    "    return 0*X + 0*Y\n",
    "\n",
    "boundary = [0,0,0,0]                      #left, right, bottom, up\n",
    "M=100\n",
    "xlims=[0,10]\n",
    "ylims=[0,10]\n",
    "tolerance = 1e-10\n",
    "max_it = 100000\n",
    "\n",
    "nx, ny = M+1, M+1                         # number of points in the x and y direction\n",
    "#xlims, ylims = np.array(xlims), np.array(ylims)                       \n",
    "xmin, xmax = xlims[0], xlims[1]           # limits in the x direction\n",
    "ymin, ymax = ylims[0], ylims[1]           # limits in the y direction\n",
    "lx, ly = xmax - xmin, ymax - ymin         # domain length in the x, and y direction\n",
    "dx = lx/(nx-1)                            # grid spacing in the x direction\n",
    "dy = ly/(ny-1)                            # grid spacing in the y direction\n",
    "\n",
    "# Create the gridline locations and the mesh grid;\n",
    "x = np.linspace(xmin, xmax, nx)\n",
    "y = np.linspace(ymin, ymax, ny)\n",
    "X, Y = np.meshgrid(x, y, indexing='ij')\n",
    "p = np.zeros((nx, ny))\n",
    "p[0,:], p[-1,:], p[:,0], p[:,-1] = boundary[0], boundary[1], boundary[2], boundary[3] #left, right, bottom, up\n",
    "\n",
    "## I can't explain what's happening on the contour plot when I run this. \n",
    "n = M//5 \n",
    "# p[n, n:-n], p[-n, n:-n] = 1,1\n",
    "# p[1,1] = 10 \n",
    " \n",
    "pnew = p.copy()\n",
    "it = 0 # iteration counter\n",
    "diff = 1.0\n",
    "tol_hist_jac = []\n",
    "\n",
    "b = f(X,Y)\n",
    "while (diff > tolerance):\n",
    "\n",
    "    #p[n, n:-n], p[-n, n:-n] = 1,-1 \n",
    "    if it > max_it:\n",
    "        print('\\nSolution did not converge within the maximum'\n",
    "                ' number of iterations'\n",
    "                f'\\nLast diff was: {diff:.5e}')\n",
    "        break\n",
    "    np.copyto(p, pnew)\n",
    "    pnew[1:-1, 1:-1] = (0.25*(p[:-2, 1:-1]+p[2:, 1:-1]+p[1:-1, :-2]\n",
    "                    + p[1:-1, 2:]-b[1:-1, 1:-1]*dx**2))\n",
    "\n",
    "    pnew[n, n:-n], pnew[-n, n:-n] = 1,-1\n",
    "    diff = np.max(abs(pnew-p))\n",
    "    # print(diff)\n",
    "    tol_hist_jac.append(diff)\n",
    "    it += 1\n",
    "print(f'\\nThe solution converged after {it} iterations')\n",
    "\n",
    "fig,ax = plt.subplots()\n",
    "contour = ax.contourf(X,Y, pnew, 50, cmap='jet')\n",
    "cbar = fig.colorbar(contour)"
   ]
  },
  {
   "cell_type": "code",
   "execution_count": null,
   "metadata": {},
   "outputs": [],
   "source": []
  }
 ],
 "metadata": {
  "kernelspec": {
   "display_name": "Python 3.9.7 ('base')",
   "language": "python",
   "name": "python3"
  },
  "language_info": {
   "codemirror_mode": {
    "name": "ipython",
    "version": 3
   },
   "file_extension": ".py",
   "mimetype": "text/x-python",
   "name": "python",
   "nbconvert_exporter": "python",
   "pygments_lexer": "ipython3",
   "version": "3.9.7"
  },
  "orig_nbformat": 4,
  "vscode": {
   "interpreter": {
    "hash": "b585a70d5ba3366bec34bcef3abe5897366cb631c247f87a4b6d516df4dc3fe2"
   }
  }
 },
 "nbformat": 4,
 "nbformat_minor": 2
}
