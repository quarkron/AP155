{
 "cells": [
  {
   "cell_type": "code",
   "execution_count": 1,
   "metadata": {},
   "outputs": [],
   "source": [
    "import numpy as np \n",
    "import matplotlib.pyplot as plt"
   ]
  },
  {
   "cell_type": "markdown",
   "metadata": {},
   "source": [
    "# FTCS method for solving the diffusion equation in one spatial dimension\n",
    "For the diffusion equation, \n",
    "$$\n",
    "\\frac{\\partial \\phi}{\\partial t} = D \\frac{\\partial ^2 \\phi}{\\partial x^2}\n",
    "$$\n",
    "the FCTS approach yields an approximate solution by forward integration\n",
    "$$\n",
    "\\phi(x,t+h) = \\phi(x,t) + h \\frac{D}{a^2}\\left[\\phi(x+a,t) + \\phi(x-a,t) - 2\\phi(x,t)\\right]\n",
    "$$"
   ]
  },
  {
   "cell_type": "code",
   "execution_count": null,
   "metadata": {},
   "outputs": [],
   "source": [
    "N = 100 \n",
    "xmin, xmax = 0, 1\n",
    "D = 4.25e-6 \n",
    "h = 1e-4\n",
    "\n",
    "\n",
    "xpoints = np.linspace(xmin, xmax, N)\n",
    "tpoints = np.linspace(0, 0.1)\n"
   ]
  },
  {
   "cell_type": "code",
   "execution_count": 51,
   "metadata": {},
   "outputs": [
    {
     "data": {
      "image/png": "[encoded data removed]",
      "text/plain": [
       "<Figure size 432x288 with 1 Axes>"
      ]
     },
     "metadata": {
      "needs_background": "light"
     },
     "output_type": "display_data"
    }
   ],
   "source": [
    "# Constants\n",
    "L = 0.01      # Thickness of steel in meters\n",
    "D = 4.25e-6   # Thermal diffusivity\n",
    "N = 100       # Number of divisions in grid\n",
    "a = L/N       # Grid spacing\n",
    "h = 1      # Time-step\n",
    "epsilon = h/1000\n",
    "\n",
    "Tlo = 0.0     # Low temperature in Celcius\n",
    "Tmid = 20.0   # Intermediate temperature in Celcius\n",
    "Thi = 50.0    # Hi temperature in Celcius\n",
    "\n",
    "t1 = 0.01\n",
    "t2 = 0.1\n",
    "t3 = 0.4\n",
    "t4 = 1.0\n",
    "t5 = 10.0\n",
    "tend = t5 + epsilon\n",
    "\n",
    "# Create arrays\n",
    "T = np.empty(N+1,float)\n",
    "T[0] = Thi\n",
    "T[N] = Tlo\n",
    "T[1:N] = Tmid\n",
    "Tp = np.empty(N+1,float)\n",
    "Tp[0] = Thi\n",
    "Tp[N] = Tlo\n",
    "\n",
    "# Main loop\n",
    "t = 0.0\n",
    "c = h*D/(a*a)\n",
    "while t<tend:\n",
    "    \n",
    "    for i in range(1,N):\n",
    "        Tp[i] = T[i] + c*(T[i+1]+T[i-1]-2*T[i])\n",
    "    T,Tp = Tp,T\n",
    "    t += h\n",
    "\n",
    "    # Make plots at the given times\n",
    "    if abs(t-t1)<epsilon:\n",
    "        plt.plot(T, label='0.01 s')\n",
    "    if abs(t-t2)<epsilon:\n",
    "        plt.plot(T, label='0.1 s')\n",
    "    if abs(t-t3)<epsilon:\n",
    "        plt.plot(T, label='0.4 s')\n",
    "    if abs(t-t4)<epsilon:\n",
    "        plt.plot(T, label='1.0 s')\n",
    "    if abs(t-t5)<epsilon:\n",
    "        plt.plot(T, label='10.0 s')\n",
    "\n",
    "plt.xlabel(\"x\")\n",
    "plt.ylabel(\"T\")\n",
    "plt.legend(loc='best')\n",
    "plt.show()\n"
   ]
  },
  {
   "cell_type": "code",
   "execution_count": 46,
   "metadata": {},
   "outputs": [
    {
     "data": {
      "image/png": "[encoded data removed]",
      "text/plain": [
       "<Figure size 432x288 with 1 Axes>"
      ]
     },
     "metadata": {
      "needs_background": "light"
     },
     "output_type": "display_data"
    }
   ],
   "source": [
    "def fcts_step(p, h, D, a, boundary):\n",
    "    ''' \n",
    "    p = array \n",
    "    h = time step size \n",
    "    D = diffusion constant \n",
    "    a = grid spacing\n",
    "    b = boundary condition array \n",
    "    '''\n",
    "    N,c = len(p), h*D/(a*a)\n",
    "    f = np.empty(N)\n",
    "    f[1:-1] = p[1:-1] + c*(p[2:] + p[:-2] - 2*p[1:-1])\n",
    "    f[0], f[-1] = boundary[0], boundary[1]\n",
    "    return f\n",
    "\n",
    "# Constants\n",
    "L = 20      # Thickness of steel in meters\n",
    "D = 0.1     # Thermal diffusivity\n",
    "N = 100       # Number of divisions in grid\n",
    "a = L/N       # Grid spacing\n",
    "h = 0.01      # Time-step\n",
    "epsilon = h/1000\n",
    "\n",
    "Tlo = 0.0     # Low temperature in Celcius\n",
    "Tmid = 20.0   # Intermediate temperature in Celcius\n",
    "Thi = 50.0    # Hi temperature in Celcius\n",
    "\n",
    "t1 = 0.01\n",
    "t2 = 0.1\n",
    "t3 = 0.4\n",
    "t4 = 1.0\n",
    "t5 = 10.0\n",
    "tend = t5 + epsilon\n",
    "\n",
    "#Initial condition with constant Dirichlet boundary conditions imposed\n",
    "T = np.linspace(0., L, N+1)\n",
    "T[0], T[-1] = Tlo, Thi\n",
    "T[1:-1] = Tmid\n",
    "t=0\n",
    "\n",
    "while t<tend:\n",
    "    \n",
    "    Tnew = fcts_step(T, h, D, a, [Tlo, Tmid])\n",
    "    T, Tnew = Tnew, T\n",
    "    # print(T)\n",
    "    t += h\n",
    "\n",
    "    # Make plots at the given times\n",
    "    if abs(t-t1)<epsilon:\n",
    "        plt.plot(T, label='0.01 s')\n",
    "    if abs(t-t2)<epsilon:\n",
    "        plt.plot(T, label='0.1 s')\n",
    "    if abs(t-t3)<epsilon:\n",
    "        plt.plot(T, label='0.4 s')\n",
    "    if abs(t-t4)<epsilon:\n",
    "        plt.plot(T, label='1.0 s')\n",
    "    if abs(t-t5)<epsilon:\n",
    "        plt.plot(T, label='10.0 s')\n",
    "\n",
    "plt.xlabel(\"x\")\n",
    "plt.ylabel(\"T\")\n",
    "plt.legend(loc='best')\n",
    "plt.show()\n"
   ]
  },
  {
   "cell_type": "markdown",
   "metadata": {},
   "source": [
    "# Exercise 8.3: Thermal Diffusion in the Earth's Crust\n",
    "Suppose the mean daily temperature at a particular point on the surface varies as: \n",
    "$$\n",
    "T_0(t) = A + B \\sin \\left(\\frac{2\\pi t}{\\tau}\\right)\n",
    "$$\n",
    "where $\\tau = 365\\ \\text{days}$, $A = 10^{\\circ}C$, and $B = 12^{\\circ}C$. At a depth of $20\\ \\text{m}$ below, the temperature is averaged and ironed out to an approximate \n",
    "$11^{\\circ}C$. The thermal diffusivity of the Earth's crust varies from place to place but we will treat it as $D = 0.1\\ \\text{m}^2\\text{day}^{-1}$."
   ]
  },
  {
   "cell_type": "code",
   "execution_count": 49,
   "metadata": {},
   "outputs": [
    {
     "data": {
      "image/png": "[encoded data removed]",
      "text/plain": [
       "<Figure size 432x288 with 1 Axes>"
      ]
     },
     "metadata": {
      "needs_background": "light"
     },
     "output_type": "display_data"
    }
   ],
   "source": [
    "def fcts_step(p, h, D, a, boundary):\n",
    "    ''' \n",
    "    p = array \n",
    "    h = time step size \n",
    "    D = diffusion constant \n",
    "    a = grid spacing\n",
    "    b = boundary condition array \n",
    "    '''\n",
    "    N,c = len(p), h*D/(a*a)\n",
    "    f = np.empty(N)\n",
    "    f[1:-1] = p[1:-1] + c*(p[2:] + p[:-2] - 2*p[1:-1])\n",
    "    f[0], f[-1] = boundary[0], boundary[1]\n",
    "    return f\n",
    "\n",
    "def boundary_temp(A,B, t, tau):\n",
    "    return A + B*np.sin((2*np.pi*t)/tau)\n",
    "\n",
    "\n",
    "# Physical Constants\n",
    "L = 20          # Depth in meters \n",
    "A, B = 10, 12   # Constants A and B in the problem \n",
    "tau = 365       \n",
    "D = 0.1 \n",
    "T_end = 11      # Temperature at bottom depth, in Celsius\n",
    "\n",
    "#FCTS constants\n",
    "N = 100         # Grid divisions \n",
    "h = 0.01         # Time steps\n",
    "epsilon = h/1000\n",
    "\n",
    "t1 = 365*9 \n",
    "t2 = 365*9.25 \n",
    "t3 = 365*9.5 \n",
    "t4 = 365*9.75 \n",
    "t5 = 365*10 \n",
    "tend = t5 + epsilon \n",
    "\n",
    "#Initial condition with constant Dirichlet boundary conditions imposed\n",
    "T = np.linspace(0., L, N+1)\n",
    "T[-1] = T_end\n",
    "T[1:-1] = 10\n",
    "t=0\n",
    "\n",
    "while t<tend:\n",
    "    T_start = boundary_temp(A,B, t, tau)\n",
    "    # print(T_start)\n",
    "    Tnew = fcts_step(T, h, D, a, [T_start, T_end])\n",
    "    T, Tnew = Tnew, T\n",
    "    # print(T[1])\n",
    "    t += h\n",
    "\n",
    "    # Make plots at the given times\n",
    "    if abs(t-t2)<epsilon:\n",
    "        plt.plot(T, label='Month 3')\n",
    "    if abs(t-t3)<epsilon:\n",
    "        plt.plot(T, label='Month 6')\n",
    "    if abs(t-t4)<epsilon:\n",
    "        plt.plot(T, label='Month 9')\n",
    "    if abs(t-t5)<epsilon:\n",
    "        plt.plot(T, label='Month 12')\n",
    "\n",
    "plt.xlabel(\"x\")\n",
    "plt.ylabel(\"T\")\n",
    "plt.legend(loc='best')\n",
    "plt.show()\n"
   ]
  }
 ],
 "metadata": {
  "kernelspec": {
   "display_name": "Python 3.9.7 ('base')",
   "language": "python",
   "name": "python3"
  },
  "language_info": {
   "codemirror_mode": {
    "name": "ipython",
    "version": 3
   },
   "file_extension": ".py",
   "mimetype": "text/x-python",
   "name": "python",
   "nbconvert_exporter": "python",
   "pygments_lexer": "ipython3",
   "version": "3.9.7"
  },
  "orig_nbformat": 4,
  "vscode": {
   "interpreter": {
    "hash": "b585a70d5ba3366bec34bcef3abe5897366cb631c247f87a4b6d516df4dc3fe2"
   }
  }
 },
 "nbformat": 4,
 "nbformat_minor": 2
}
