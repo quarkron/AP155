{
 "cells": [
  {
   "cell_type": "code",
   "execution_count": 2,
   "metadata": {},
   "outputs": [],
   "source": [
    "import numpy as np \n"
   ]
  },
  {
   "cell_type": "code",
   "execution_count": 175,
   "metadata": {},
   "outputs": [
    {
     "data": {
      "text/plain": [
       "array([[ 1. , -0.5,  4.8,  1.5, -5. ],\n",
       "       [ 0. ,  1. , -3.8, -1. , -6. ],\n",
       "       [ 0. ,  0. ,  1. , -1. ,  2. ],\n",
       "       [-0. , -0. , -0. ,  1. ,  7. ]])"
      ]
     },
     "execution_count": 175,
     "metadata": {},
     "output_type": "execute_result"
    }
   ],
   "source": [
    "# x3=np.reshape(np.arange(16), (4,4))\n",
    "# # A = np.array([[ 2,  1,  4,  1 ],\n",
    "# #            [ 3,  4, -1, -1 ],\n",
    "# #            [ 1, -4,  1,  5 ],\n",
    "# #            [ 2, -2,  1,  3 ]],float)\n",
    "# # v = np.array([ -4, 3, 9, 7 ],float)\n",
    "\n",
    "# A = [[1,0.5,2,0.5], [3,4,-1,-1], [1,-4,1,5], [2,-2,1,3]]\n",
    "# v = [-2,3,9,7]\n",
    "\n",
    "# def ref(test):\n",
    "#     test = np.array(test).astype(float) #Converts to float\n",
    "#     N = np.shape(test)[0]\n",
    "#     for c in range(N-1):\n",
    "#         if test[c,c] == 0: #Check if pivot is zero.\n",
    "#             #Check for nonzero first entries in the lower rows.\n",
    "#                 pointer = c+1 \n",
    "#                 while pointer < row: #checks rows up to the last row of the matrix\n",
    "#                     if test[pointer, c] != 0: #Swap with the pivot row the lower row if first entry is nonzero.\n",
    "#                         copy = np.copy(test[c])\n",
    "#                         test[c], test[pointer] = test[pointer], copy \n",
    "#                         break \n",
    "#                     else: #If not, move pointer to the next lower row\n",
    "#                         pointer = pointer + 1\n",
    "#         if test[c,c] != 0: #Check if the pivot is 0. If not, then proceed to row reduce the lower rows.\n",
    "#             test[c] = test[c]/test[c,c]\n",
    "#             for r in range(c+1, N):\n",
    "#                 factor = test[r,c]/test[c,c]\n",
    "#                 test[r] = test[r] - test[c]*factor \n",
    "#     if test[N-1,N-1] != 0: #Divide the last row by the leading coefficient if it is nonzero. \n",
    "#         test[N-1] = test[N-1]/(test[N-1,N-1])\n",
    "#     return test\n",
    "\n",
    "# def rref(test):\n",
    "#     REF = ref(test) \n",
    "#     N= np.shape(test)[0]\n",
    "#     for i in range(N-1, 0, -1):\n",
    "#         for m in range(i):\n",
    "#             factor = REF[m,i]/REF[i,i]\n",
    "#             REF[m] = REF[m] - factor*REF[i]\n",
    "#     return REF\n",
    "\n",
    "# def gauss_elim(A, b):\n",
    "#     b = np.array(b).astype(float) \n",
    "#     b = np.reshape(b, (-1,1))\n",
    "#     ref_A, N = ref(A), np.shape(A)[0]\n",
    "#     assert N == np.shape(A)[1], 'Non-square matrix A, no unique solutions'\n",
    "#     assert np.sum(ref_A[N-1]) != 0, 'Matrix linearly dependent, infinitely many solutions'\n",
    "#     augmented = np.append(ref_A, b, axis=-1)\n",
    "#     print(augmented)\n",
    "#     for i in range(N-1, 0, -1):\n",
    "#         for m in range(i):\n",
    "#             factor = augmented[m,i]/augmented[i,i]\n",
    "#             augmented[m] = augmented[m] - factor*augmented[i]\n",
    "#     return augmented\n",
    "# # gauss_elim(A, v)"
   ]
  },
  {
   "cell_type": "code",
   "execution_count": 4,
   "metadata": {},
   "outputs": [
    {
     "name": "stdout",
     "output_type": "stream",
     "text": [
      "[[ 1.         -0.         -2.         -0.        ]\n",
      " [ 0.          1.         -1.66666667  0.        ]\n",
      " [-0.         -0.          1.         -0.        ]]\n"
     ]
    }
   ],
   "source": [
    "# A = [[1,0.5,2,0.5], [3,4,-1,-1], [1,-4,1,5], [2,-2,1,3]]\n",
    "# v = [-2,3,9,7]\n",
    "\n",
    "# A = np.array([[ 2,  1,  4,  1 ],\n",
    "#            [ 3,  4, -1, -1 ],\n",
    "#            [ 1, -4,  1,  5 ],\n",
    "#            [ 2, -2,  1,  3 ]],float)\n",
    "# v = np.array([ -4, 3, 9, 7 ],float)\n",
    "\n",
    "\n",
    "# A = [[2,1,1], [1,-2,1], [1,0,1]]\n",
    "# v = [0,-2,0]\n",
    "\n",
    "# A = [[0,1], [1,1]]\n",
    "# v = [1,1]\n",
    "\n",
    "A = [[-1,0,2],[-2,3,-1],[1,0,-4]]\n",
    "v = [0,0,0]\n",
    "\n",
    "def ref(test, b):\n",
    "    test, b = np.array(test).astype(float), np.array(b).astype(float) #Converts to float\n",
    "    b = np.reshape(b, (-1,1))\n",
    "    N = np.shape(test)[0]\n",
    "    augment = np.append(test, b, axis=-1)\n",
    "    for c in range(N-1):\n",
    "        if augment[c,c] == 0: #Check if pivot is zero.\n",
    "            #Check for nonzero first entries in the lower rows.\n",
    "                pointer = c+1 \n",
    "                while pointer < N: #checks rows up to the last row of the matrix\n",
    "                    if augment[pointer, c] != 0: #Swap with the pivot row the lower row if first entry is nonzero.\n",
    "                        copy = np.copy(augment[c])\n",
    "                        augment[c], augment[pointer] = augment[pointer], copy \n",
    "                        break \n",
    "                    else: #If not, move pointer to the next lower row\n",
    "                        pointer = pointer + 1\n",
    "        if augment[c,c] != 0: #Check if the pivot is 0. If not, then proceed to row reduce the lower rows.\n",
    "            augment[c] = augment[c]/augment[c,c]\n",
    "            for r in range(c+1, N):\n",
    "                factor = augment[r,c]/augment[c,c]\n",
    "                augment[r] = augment[r] - augment[c]*factor \n",
    "    if augment[N-1,N-1] != 0: #Divide the last row by the leading coefficient if it is nonzero. \n",
    "        augment[N-1] = augment[N-1]/(augment[N-1,N-1])\n",
    "    return augment\n",
    "\n",
    "def gauss_elim(A, b):\n",
    "    N = np.shape(A)[0]\n",
    "    assert N == np.shape(A)[1], 'Non-square matrix A, no unique solutions'\n",
    "    aug = ref(A, b)\n",
    "    assert np.sum(aug[N-1,0:-1]) != 0, 'Matrix linearly dependent, infinitely many solutions'\n",
    "    for i in range(N-1, 0, -1):\n",
    "        for m in range(i):\n",
    "            factor = aug[m,i]/aug[i,i]\n",
    "            aug[m] = aug[m] - factor*aug[i]\n",
    "    return aug[:,N]\n",
    "\n",
    "print(ref(A,v))"
   ]
  },
  {
   "cell_type": "code",
   "execution_count": 109,
   "metadata": {},
   "outputs": [
    {
     "name": "stdout",
     "output_type": "stream",
     "text": [
      "0.0\n",
      "-inf\n"
     ]
    },
    {
     "name": "stderr",
     "output_type": "stream",
     "text": [
      "C:\\Users\\Ron\\AppData\\Local\\Temp/ipykernel_19444/2743334984.py:10: RuntimeWarning: divide by zero encountered in true_divide\n",
      "  A[m,:] /= div\n",
      "C:\\Users\\Ron\\AppData\\Local\\Temp/ipykernel_19444/2743334984.py:10: RuntimeWarning: invalid value encountered in true_divide\n",
      "  A[m,:] /= div\n"
     ]
    },
    {
     "data": {
      "text/plain": [
       "array([[nan, inf],\n",
       "       [nan, nan]])"
      ]
     },
     "execution_count": 109,
     "metadata": {},
     "output_type": "execute_result"
    }
   ],
   "source": [
    "# # Newman's code\n",
    "# A = np.array([[0,1],[1,1]],float)\n",
    "# N = 2\n",
    "\n",
    "# # Gaussian elimination\n",
    "# for m in range(N):\n",
    "\n",
    "#     # Divide by the diagonal element\n",
    "#     div = A[m,m]\n",
    "#     print(div)\n",
    "#     A[m,:] /= div\n",
    "#     #v[m] /= div\n",
    "\n",
    "#     # Now subtract from the lower rows\n",
    "#     for i in range(m+1,N):\n",
    "#         mult = A[i,m]\n",
    "#         A[i,:] -= mult*A[m,:]\n",
    "#         #v[i] -= mult*v[m]\n",
    "# A\n",
    "# # Backsubstitution\n",
    "# # x = empty(N,float)\n",
    "# # for m in range(N-1,-1,-1):\n",
    "# #     x[m] = v[m]\n",
    "# #     for i in range(m+1,N):\n",
    "# #         x[m] -= A[m,i]*x[i]\n"
   ]
  },
  {
   "cell_type": "code",
   "execution_count": null,
   "metadata": {},
   "outputs": [],
   "source": [
    "# #For debugging purposes only\n",
    "\n",
    "# # test= np.array([[2,1,4,1], [3,4,-1,1], [1,-4,1,5], [2,-2,1,3]]).astype(float) \n",
    "# # test= np.array([[3,4,-1,1], [2,1,4,1], [1,-4,1,5], [2,-2,1,3]]).astype(float)\n",
    "# # test = np.array([[1,2],[2,4]])\n",
    "# # test = np.array([[1,1,1], [2,2,5], [4,6,8]])\n",
    "# test = np.array([[1,-1,2], [1,0,1], [2,-3,5], [3,2,-1]])\n",
    "# print(test)\n",
    "# row,col = np.shape(test)[0], np.shape(test)[1]\n",
    "# for c in range(col-1):\n",
    "#     print('test[c,c]:', test[c,c])\n",
    "#     print(test)\n",
    "#     if test[c,c] == 0: #Check if pivot is zero.\n",
    "#         #Check for nonzero first entries in the lower rows.\n",
    "#             print('executes!')\n",
    "#             pointer = c+1 \n",
    "#             print(test[pointer, c])\n",
    "#             while pointer < row: #checks rows up to the last row of the matrix\n",
    "#                 if test[pointer, c] != 0: #Swap with the pivot row the lower row if first entry is nonzero.\n",
    "#                     print('executes!')\n",
    "#                     print(test[pointer])\n",
    "#                     copy = np.copy(test[c])\n",
    "#                     test[c], test[pointer] = test[pointer], copy \n",
    "#                     break \n",
    "#                 else: #If not, move pointer to the next lower row\n",
    "#                     pointer = pointer + 1\n",
    "            \n",
    "#             print(test)\n",
    "#     if test[c,c] != 0: #Check if the pivot is 0. If not, then proceed to row reduce the lower rows.\n",
    "#         #print('executes!') \n",
    "#         test[c] = test[c]/test[c,c]\n",
    "#         for r in range(c+1, col):\n",
    "#             print('r, c:', r, c)\n",
    "#             # print('Pivot, first entry:', test[r,r], test[c,r])\n",
    "#             factor = test[r,c]/test[c,c]\n",
    "#             print('factor', test[r,c], '/', test[c,c], '=', factor)\n",
    "#             #print('row to be eliminated:', test[c])\n",
    "#             #print('modified:', test[r]*factor) \n",
    "#             #print(test[c] - test[r]*factor)\n",
    "#             test[r] = test[r] - test[c]*factor \n",
    "#             #print(test[c])\n",
    "#             print(test)\n",
    "# if test[row-1,col-1] != 0: #Divide the last row by the leading coefficient if it is nonzero. \n",
    "#     test[row-1] = test[row-1]/(test[row-1,col-1])\n",
    "# test"
   ]
  },
  {
   "cell_type": "code",
   "execution_count": null,
   "metadata": {},
   "outputs": [],
   "source": [
    "# #Why are these two code snippets different? \n",
    "\n",
    "# test= np.array([[2,1,4,1], [3,4,-1,1], [1,-4,1,5], [2,-2,1,3]]).astype(float)\n",
    "# now = test[2] - test[0]*0.5\n",
    "# test[2] = now\n",
    "# print(test[2])\n",
    "# print(now)\n",
    "\n",
    "# test1= np.array([[2,1,4,1], [3,4,-1,1], [1,-4,1,5], [2,-2,1,3]])\n",
    "# now1 = test1[2] - test1[0]*0.5\n",
    "# test1[2] = now1\n",
    "# print(test1[2])\n",
    "# print(now)"
   ]
  }
 ],
 "metadata": {
  "kernelspec": {
   "display_name": "Python 3.9.7 ('base')",
   "language": "python",
   "name": "python3"
  },
  "language_info": {
   "codemirror_mode": {
    "name": "ipython",
    "version": 3
   },
   "file_extension": ".py",
   "mimetype": "text/x-python",
   "name": "python",
   "nbconvert_exporter": "python",
   "pygments_lexer": "ipython3",
   "version": "3.9.7"
  },
  "orig_nbformat": 4,
  "vscode": {
   "interpreter": {
    "hash": "b585a70d5ba3366bec34bcef3abe5897366cb631c247f87a4b6d516df4dc3fe2"
   }
  }
 },
 "nbformat": 4,
 "nbformat_minor": 2
}
