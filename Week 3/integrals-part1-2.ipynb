{
 "cells": [
  {
   "cell_type": "markdown",
   "id": "00e089b9-9347-44b5-a959-79cf79bc27fb",
   "metadata": {},
   "source": [
    "# Fundamental methods for evaluating integrals\n",
    "(Figures are from Newman, Chapter 5)"
   ]
  },
  {
   "cell_type": "markdown",
   "id": "de158ca9-8ad5-4ed4-8302-2ddc2467df52",
   "metadata": {
    "tags": []
   },
   "source": [
    "We have a function $f(x)$ and we want to evaluate its integral with respect to $x$ from $x=a$ to $x=b$\n",
    "## $I(a,b) = \\int_a^b f(x)\\,dx$"
   ]
  },
  {
   "cell_type": "markdown",
   "id": "576666d1-803d-4217-ba00-216825f5a329",
   "metadata": {},
   "source": [
    "Estimating the area under the curve using a set of rectangles. <br>\n",
    "<img src=\"newman/fig5-1a.png\" width=\"300\">"
   ]
  },
  {
   "cell_type": "code",
   "execution_count": 10,
   "id": "c0892487",
   "metadata": {},
   "outputs": [],
   "source": [
    "# !curl -o newman.zip http://www-personal.umich.edu/~mejn/cp/figures/figures-png.zip"
   ]
  },
  {
   "cell_type": "markdown",
   "id": "d0b4f737-dddc-41e5-9eb0-487aa0245374",
   "metadata": {},
   "source": [
    "We can do a bit better by using trapezoids instead of rectangles! This is the trapezoidal rule. <br>\n",
    "<img src=\"newman/fig5-1b.png\" width=\"400\">"
   ]
  },
  {
   "cell_type": "markdown",
   "id": "1f412e9f-1ca2-4055-b5f0-c411a90a8ead",
   "metadata": {
    "tags": []
   },
   "source": [
    "First trapezoid: $\\frac{1}{2}\\left[f(a) + f(a+ \\Delta x)\\right]\\,\\Delta x$<br>\n",
    "Second trapezoid: $\\frac{1}{2}\\left[f(a+\\Delta x) + f(a+ 2\\Delta x)\\right]\\,\\Delta x$ <br>\n",
    "ith trapezoid:  $\\frac{1}{2}\\left[f(a+ (i-1)\\Delta x) + f(a+ i \\Delta x)\\right]\\,\\Delta x$ <br>\n",
    "...<br>\n",
    "Last trapezoid: $\\frac{1}{2}\\left[f(b - \\Delta x) + f(b)\\right]\\,\\Delta x$ <br>"
   ]
  },
  {
   "cell_type": "markdown",
   "id": "a0a61f26-2cd5-40aa-b257-660736869dca",
   "metadata": {},
   "source": [
    "### Trapezoidal rule: what do we need?\n",
    "endpoints: a, b <br>\n",
    "number of slices: N\n",
    "\n",
    "### What do we obtain?\n",
    "$\\Delta x = (b-a)/N$\n",
    "\n",
    "Area of the last trapezoid can now be rewritten as:\n",
    "$\\frac{1}{2}[f(a + (N-1)\\Delta x) + f(a + N \\Delta x)]\\,\\Delta x$\n",
    "\n",
    "Recall:<br>\n",
    "First trapezoid: $\\frac{1}{2}\\left[f(a) + f(a+ \\Delta x)\\right]\\,\\Delta x$<br>\n",
    "Second trapezoid: $\\frac{1}{2}\\left[f(a+\\Delta x) + f(a+ 2\\Delta x)\\right]\\,\\Delta x$ <br>\n",
    "Third trapezoid: $\\frac{1}{2}\\left[f(a+2\\Delta x) + f(a+ 3\\Delta x)\\right]\\,\\Delta x$ <br>\n",
    "...<br>\n",
    "ith trapezoid:  $\\frac{1}{2}\\left[f(a+ (i-1)\\Delta x) + f(a+ i \\Delta x)\\right]\\,\\Delta x$ <br>\n",
    "...<br>\n",
    "Second to the last trapezoid: $\\frac{1}{2}[f(a + (N-2)\\Delta x) + f(a + (N-1) \\Delta x)]\\,\\Delta x$<br>\n",
    "Last trapezoid: $\\frac{1}{2}[f(a + (N-1)\\Delta x) + f(a + N \\Delta x)]\\,\\Delta x$\n",
    "\n",
    "$I(a,b) \\approx \\Delta x\\, (\\frac{1}{2}(f(a) + f(b)) + \\sum_{i=1}^{N-1}(f(a+(i\\Delta x)))$"
   ]
  },
  {
   "cell_type": "code",
   "execution_count": 11,
   "id": "3f9ba76b-c267-4a4a-b6e8-ae1784559953",
   "metadata": {},
   "outputs": [],
   "source": [
    "#This code will not run. We're just thinking things over here\n",
    "#a = ?\n",
    "#b = ?\n",
    "#N = 10\n",
    "#delta = (b-a)/N\n",
    "\n",
    "#Function f(x) is not yet defined\n",
    "\n",
    "#for i in range(1, N):\n",
    "#    total += f(a + i*delta)\n",
    "    \n",
    "#delta * (1/2 * (f(a) + f(b)) + total)"
   ]
  },
  {
   "cell_type": "code",
   "execution_count": 15,
   "id": "679e2c12-2672-4d8a-9c44-7d5cba0bcf43",
   "metadata": {},
   "outputs": [
    {
     "name": "stdout",
     "output_type": "stream",
     "text": [
      "2.66666668\n"
     ]
    }
   ],
   "source": [
    "import numpy as np\n",
    "\n",
    "N = 10000\n",
    "a = 0\n",
    "b = 2\n",
    "\n",
    "delta = (b-a)/N\n",
    "\n",
    "def f(x):\n",
    "    #return np.sin(x)\n",
    "    return x**2\n",
    "\n",
    "x = np.linspace(a, b, N+1)\n",
    "integral = delta * (np.sum(f(x)) - 0.5*(f(a) + f(b)))\n",
    "print(integral)"
   ]
  },
  {
   "cell_type": "markdown",
   "id": "5034f316-c372-4fee-a658-d05b3a05f7fc",
   "metadata": {},
   "source": [
    "If we use more slices, our accuracy should increase. <br>\n",
    "<img src=\"newman/fig5-1c.png\" width=\"300\">"
   ]
  },
  {
   "cell_type": "markdown",
   "id": "0b17b101-9036-4af3-8943-18eb3a6a6473",
   "metadata": {},
   "source": [
    "You're probably wondering if we used a line for the trapezoidal rule, can we use a quadratic equation to get a \"better fit\" -- that's Simpson's rule. <br>\n",
    "\n",
    "Simpson’s rule involves fitting quadratic curves to pairs of slices and then calculating the area under the quadratics."
   ]
  },
  {
   "cell_type": "markdown",
   "id": "9cdc0ff6-adab-47c8-9494-e97d2edd0d79",
   "metadata": {},
   "source": [
    "<img src=\"newman/fig5-2.png\" width=\"300\">"
   ]
  },
  {
   "cell_type": "markdown",
   "id": "9deeae50-34c7-4897-851e-18ff607a1c23",
   "metadata": {
    "tags": []
   },
   "source": [
    "In writing down Simpson's rule, we once more go through the idea of building up the equations. To make our life simple, we consider once more a function $f(x)$ and we have the values of $f(x)$ at 3 points: $x = -h, 0, h$. Then substitution yields:<br>\n",
    "$f(-h) = A(-h)^2 + B(-h) + C$ <br>\n",
    "$f(0) = C$ <br>\n",
    "$f(h) = Ah^2 + Bh + C$ <br>\n",
    "and we are left with the problem of having 3 equations in 3 unknowns ($A, B, C$), which we want to write down in terms of the knowns, i.e. the sampled points of $f(x)$. <br>\n",
    "[Simpson's rule is derived in Newman, equations 5.5 - 5.8]\n",
    "Once you have A, B, C, you substitute it into the slice covered by the first quadratic equation ... <br>\n",
    "$\\int_{-h}^h f(x)\\, dx \\approx \\int_{-h}^h (Ax^2 + Bx + C)\\, dx$ = $\\frac{2}{3} Ah^3 + 2Ch$ = $\\frac{1}{3}h[f(-h) + 4f(0) + f(h)]$"
   ]
  },
  {
   "cell_type": "markdown",
   "id": "68c937b4-7138-45a3-9863-f27dcec4411a",
   "metadata": {},
   "source": [
    "Written this way, we can see that it's once again a matter of summing up the slices under each quadratic approximation. Also, that the $f(h)$ in the first quadratic block is going to coincide with the $f(-h)$ in the next quadratic block, so you see immediately that this is going to look like a pattern of 1, 4, 2, 4, 2, 4, 2, ..., 2, 4, 1."
   ]
  },
  {
   "cell_type": "markdown",
   "id": "fe157416-eaa6-40c0-9015-64793f338e12",
   "metadata": {},
   "source": [
    "Indeed, the extended Simpson's rule is: <br>\n",
    "$I \\approx \\frac{1}{3}h \\left[f(a) + f(b) + 4\\sum_{k\\, odd\\, {1,...N-1}} f(a+kh) + 2\\sum_{k\\, even\\, {2,...N-2}} f(a+kh)\\right]$\n"
   ]
  },
  {
   "cell_type": "code",
   "execution_count": 13,
   "id": "c9575f4a-246b-4912-a011-3b4a28e7fb1a",
   "metadata": {},
   "outputs": [
    {
     "name": "stdout",
     "output_type": "stream",
     "text": [
      "2.6666666666666665\n"
     ]
    }
   ],
   "source": [
    "import numpy as np\n",
    "\n",
    "N = 10\n",
    "a = 0\n",
    "b = 2\n",
    "\n",
    "delta = (b-a)/N\n",
    "\n",
    "def f(x):\n",
    "    #return np.sin(x)\n",
    "    return x**2\n",
    "\n",
    "x = np.linspace(a, b, N+1)\n",
    "integral = delta/3 * (f(x[0]) + f(x[-1]) + \n",
    "                      4*np.sum(f(x[1:-1:2])) + 2*np.sum(f(x[2:-1:2])))\n",
    "print(integral)"
   ]
  },
  {
   "cell_type": "code",
   "execution_count": null,
   "id": "42f42a8e-8a60-443b-ab87-a166c9046dc2",
   "metadata": {},
   "outputs": [],
   "source": []
  }
 ],
 "metadata": {
  "kernelspec": {
   "display_name": "Python 3.9.7 ('base')",
   "language": "python",
   "name": "python3"
  },
  "language_info": {
   "codemirror_mode": {
    "name": "ipython",
    "version": 3
   },
   "file_extension": ".py",
   "mimetype": "text/x-python",
   "name": "python",
   "nbconvert_exporter": "python",
   "pygments_lexer": "ipython3",
   "version": "3.9.7"
  },
  "vscode": {
   "interpreter": {
    "hash": "b585a70d5ba3366bec34bcef3abe5897366cb631c247f87a4b6d516df4dc3fe2"
   }
  }
 },
 "nbformat": 4,
 "nbformat_minor": 5
}
