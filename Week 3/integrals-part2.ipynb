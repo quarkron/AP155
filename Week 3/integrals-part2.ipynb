{
 "cells": [
  {
   "cell_type": "markdown",
   "id": "6b98e984-0806-4bac-a5ca-c3a19e797a3e",
   "metadata": {},
   "source": [
    "## Approximation of errors"
   ]
  },
  {
   "cell_type": "markdown",
   "id": "0f1309e7-043d-41fe-b865-51c352bbd314",
   "metadata": {},
   "source": [
    "<img src=\"newman/fig5-3.png\" width=\"300\"><br>\n",
    "[Newman] Fig 5.3"
   ]
  },
  {
   "cell_type": "markdown",
   "id": "e1bd9ae2-d801-4ca4-9179-2a735052e167",
   "metadata": {},
   "source": [
    "## Romberg integration"
   ]
  },
  {
   "cell_type": "markdown",
   "id": "3147a0b8-8ad5-4104-be66-23c9c974333f",
   "metadata": {},
   "source": [
    "## Gaussian quadrature"
   ]
  },
  {
   "cell_type": "markdown",
   "id": "d7da3fa9-d403-40b7-b77d-c6b6b3358a2b",
   "metadata": {},
   "source": [
    "<img src=\"newman/fig5-4a.png\" width=\"300\"><br>\n",
    "[Newman] Fig 5.4a"
   ]
  },
  {
   "cell_type": "markdown",
   "id": "82914701-68e8-403c-ba1b-b187a2e54c61",
   "metadata": {},
   "source": [
    "<img src=\"newman/fig5-4b.png\" width=\"300\"><br>\n",
    "[Newman] Fig 5.4b"
   ]
  },
  {
   "cell_type": "markdown",
   "id": "4d34e05a-8590-4e09-aebd-86655c87af73",
   "metadata": {},
   "source": [
    "<img src=\"newman/fig5-5.png\" width=\"300\"><br>\n",
    "[Newman] Fig 5.5"
   ]
  },
  {
   "cell_type": "markdown",
   "id": "69067da3-e46b-4a83-8c2d-2f8204600da1",
   "metadata": {},
   "source": [
    "<img src=\"newman/fig5-6.png\" width=\"300\"><br>\n",
    "[Newman] Fig 5.6"
   ]
  },
  {
   "cell_type": "markdown",
   "id": "032a2aa0-6cdc-4584-a9bc-2c21355b00fd",
   "metadata": {},
   "source": [
    "<img src=\"newman/fig5-7.png\" width=\"300\"><br>\n",
    "[Newman] Fig 5.7"
   ]
  },
  {
   "cell_type": "markdown",
   "id": "2e9e0c90-6f95-4058-94b2-34f43ff79869",
   "metadata": {},
   "source": [
    "<img src=\"newman/fig5-8.png\" width=\"300\"><br>\n",
    "[Newman] Fig 5.8"
   ]
  },
  {
   "cell_type": "code",
   "execution_count": null,
   "id": "aa6a670f-eb05-49ef-a41d-e7f4eead20f5",
   "metadata": {},
   "outputs": [],
   "source": []
  }
 ],
 "metadata": {
  "kernelspec": {
   "display_name": "Python 3.9.7 ('base')",
   "language": "python",
   "name": "python3"
  },
  "language_info": {
   "codemirror_mode": {
    "name": "ipython",
    "version": 3
   },
   "file_extension": ".py",
   "mimetype": "text/x-python",
   "name": "python",
   "nbconvert_exporter": "python",
   "pygments_lexer": "ipython3",
   "version": "3.9.7"
  },
  "vscode": {
   "interpreter": {
    "hash": "b585a70d5ba3366bec34bcef3abe5897366cb631c247f87a4b6d516df4dc3fe2"
   }
  }
 },
 "nbformat": 4,
 "nbformat_minor": 5
}
