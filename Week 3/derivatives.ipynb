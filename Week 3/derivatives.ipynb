{
 "cells": [
  {
   "cell_type": "markdown",
   "id": "70f28ee9-cccc-4f79-a8ba-5822e929aec9",
   "metadata": {
    "tags": []
   },
   "source": [
    "# Derivatives #"
   ]
  },
  {
   "cell_type": "markdown",
   "id": "dc870733-2d73-49b7-b3d6-aca6df761879",
   "metadata": {},
   "source": [
    "<img src=\"newman/fig5-9.png\" width=\"300\"><br>\n",
    "[Newman] Fig 5.9"
   ]
  },
  {
   "cell_type": "markdown",
   "id": "1f9a76b3-1952-453e-bb6d-0f02cceded39",
   "metadata": {},
   "source": [
    "<img src=\"newman/fig5-10.png\" width=\"300\"><br>\n",
    "[Newman] Fig 5.10"
   ]
  },
  {
   "cell_type": "markdown",
   "id": "67b4a9b0-a86e-42cd-9cd4-7f2fe836a930",
   "metadata": {},
   "source": [
    "<img src=\"newman/fig5-11a.png\" width=\"300\"><br>\n",
    "[Newman] Fig 5.11a"
   ]
  },
  {
   "cell_type": "markdown",
   "id": "eecc0d97-0bdb-4bd2-86f4-dda3e397f520",
   "metadata": {},
   "source": [
    "<img src=\"newman/fig5-11b.png\" width=\"300\"><br>\n",
    "[Newman] Fig 5.11b"
   ]
  },
  {
   "cell_type": "markdown",
   "id": "583ed4c7-b7d2-41aa-966b-cad41d567616",
   "metadata": {},
   "source": [
    "<img src=\"newman/fig5-12.png\" width=\"300\"><br>\n",
    "[Newman] Fig 5.12"
   ]
  },
  {
   "cell_type": "markdown",
   "id": "c7386654-1a8e-407f-b8b4-fcc7799e6b51",
   "metadata": {},
   "source": [
    "<img src=\"newman/fig5-13.png\" width=\"300\"><br>\n",
    "[Newman] Fig 5.13"
   ]
  },
  {
   "cell_type": "markdown",
   "id": "c72ad41c-7a27-442c-a156-d7324457a5f2",
   "metadata": {},
   "source": [
    "<img src=\"newman/fig5-14.png\" width=\"300\"><br>\n",
    "[Newman] Fig 5.14"
   ]
  },
  {
   "cell_type": "code",
   "execution_count": null,
   "id": "aa6a670f-eb05-49ef-a41d-e7f4eead20f5",
   "metadata": {},
   "outputs": [],
   "source": []
  }
 ],
 "metadata": {
  "kernelspec": {
   "display_name": "Python [conda env:ap155]",
   "language": "python",
   "name": "conda-env-ap155-py"
  },
  "language_info": {
   "codemirror_mode": {
    "name": "ipython",
    "version": 3
   },
   "file_extension": ".py",
   "mimetype": "text/x-python",
   "name": "python",
   "nbconvert_exporter": "python",
   "pygments_lexer": "ipython3",
   "version": "3.10.6"
  }
 },
 "nbformat": 4,
 "nbformat_minor": 5
}
