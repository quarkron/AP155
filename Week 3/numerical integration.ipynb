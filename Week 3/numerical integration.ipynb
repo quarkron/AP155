{
 "cells": [
  {
   "cell_type": "code",
   "execution_count": 46,
   "metadata": {},
   "outputs": [],
   "source": [
    "import numpy as np\n"
   ]
  },
  {
   "cell_type": "code",
   "execution_count": 47,
   "metadata": {},
   "outputs": [],
   "source": [
    "def f(x):\n",
    "    return x**4 - 2*x + 1\n"
   ]
  },
  {
   "cell_type": "markdown",
   "metadata": {},
   "source": [
    "Trapezoidal rule"
   ]
  },
  {
   "cell_type": "code",
   "execution_count": 48,
   "metadata": {},
   "outputs": [
    {
     "name": "stdout",
     "output_type": "stream",
     "text": [
      "4.50656\n"
     ]
    }
   ],
   "source": [
    "N = 10\n",
    "a,b = 0,2\n",
    "h = (b-a)/N\n",
    "points = np.linspace(a,b, N+1)\n",
    "area = 0\n",
    "for i in range(N):\n",
    "    f1, f2 = f(points[i]), f(points[i+1])\n",
    "    area += 0.5*h*(f1+f2)\n",
    "print(area)"
   ]
  },
  {
   "cell_type": "markdown",
   "metadata": {},
   "source": [
    "Simpson's Rule"
   ]
  },
  {
   "cell_type": "code",
   "execution_count": 49,
   "metadata": {},
   "outputs": [
    {
     "data": {
      "text/plain": [
       "4.400426666666667"
      ]
     },
     "execution_count": 49,
     "metadata": {},
     "output_type": "execute_result"
    }
   ],
   "source": [
    "N = 10 #even slices only\n",
    "a,b = 0,2 \n",
    "h = (b-a)/N \n",
    "points = np.linspace(a,b, N+1)\n",
    "area = 0 \n",
    "for i in range(N//2):\n",
    "    #print(f'quadratic curve number: {i}')\n",
    "    p1, p2, p3 = a+2*i*h, a + (2*i+1)*h, a + (2*i+2)*h \n",
    "    #print(f'(p1,p2,p3): {(p1,p2,p3)}')\n",
    "    cumulate = (h/3)*(f(p1)+4*f(p2)+f(p3))\n",
    "    area += cumulate\n",
    "    #print(f'area: {cumulate} \\n')\n",
    "area\n",
    "\n",
    "\n",
    "    "
   ]
  },
  {
   "cell_type": "code",
   "execution_count": 50,
   "metadata": {},
   "outputs": [],
   "source": [
    "def simpson(f, N, a, b, debug=False):\n",
    "    h = (b-a)/N \n",
    "    points = np.linspace(a,b, N+1)\n",
    "    area = 0\n",
    "    for i in range(N//2):\n",
    "        if debug:\n",
    "            print(f'quadratic curve number: {i}')\n",
    "            p1, p2, p3 = a+2*i*h, a + (2*i+1)*h, a + (2*i+2)*h \n",
    "            print(f'(p1,p2,p3): {(p1,p2,p3)}')\n",
    "            cumulate = (h/3)*(f(p1)+4*f(p2)+f(p3))\n",
    "            area += cumulate\n",
    "            print(f'area: {cumulate} \\n')\n",
    "        if not debug:\n",
    "            p1, p2, p3 = a+2*i*h, a + (2*i+1)*h, a + (2*i+2)*h \n",
    "            cumulate = (h/3)*(f(p1)+4*f(p2)+f(p3))\n",
    "            area += cumulate\n",
    "    return area \n",
    "\n",
    "def trapezoid(f, N, a, b, debug=False):\n",
    "    h = (b-a)/N\n",
    "    points = np.linspace(a,b, N+1)\n",
    "    area = 0\n",
    "    for i in range(N):\n",
    "        if not debug:\n",
    "            f1, f2 = f(points[i]), f(points[i+1])\n",
    "            area += 0.5*h*(f1+f2)\n",
    "        if debug:\n",
    "            print(f'Trapezoid {i}')\n",
    "            f1, f2 = f(points[i]), f(points[i+1]) \n",
    "            print(f'(f1,f2): {(f1,f2)}')\n",
    "            cumulate = 0.5*h*(f1+f2)\n",
    "            print(f'area: {cumulate} \\n')\n",
    "            area += cumulate\n",
    "    return area"
   ]
  },
  {
   "cell_type": "code",
   "execution_count": 51,
   "metadata": {},
   "outputs": [
    {
     "data": {
      "text/plain": [
       "4.2000000013333345"
      ]
     },
     "execution_count": 51,
     "metadata": {},
     "output_type": "execute_result"
    }
   ],
   "source": [
    "simpson(f,100,1,2)"
   ]
  },
  {
   "cell_type": "code",
   "execution_count": 52,
   "metadata": {},
   "outputs": [
    {
     "data": {
      "text/plain": [
       "4.29328"
      ]
     },
     "execution_count": 52,
     "metadata": {},
     "output_type": "execute_result"
    }
   ],
   "source": [
    "trapezoid(f,5,1,2)"
   ]
  }
 ],
 "metadata": {
  "kernelspec": {
   "display_name": "Python 3.9.7 ('base')",
   "language": "python",
   "name": "python3"
  },
  "language_info": {
   "codemirror_mode": {
    "name": "ipython",
    "version": 3
   },
   "file_extension": ".py",
   "mimetype": "text/x-python",
   "name": "python",
   "nbconvert_exporter": "python",
   "pygments_lexer": "ipython3",
   "version": "3.9.7"
  },
  "orig_nbformat": 4,
  "vscode": {
   "interpreter": {
    "hash": "b585a70d5ba3366bec34bcef3abe5897366cb631c247f87a4b6d516df4dc3fe2"
   }
  }
 },
 "nbformat": 4,
 "nbformat_minor": 2
}
