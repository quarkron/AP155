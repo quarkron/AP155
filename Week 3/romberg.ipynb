{
 "cells": [
  {
   "cell_type": "markdown",
   "id": "28ddd6eb-766b-429b-b31c-e49fa32ffffa",
   "metadata": {},
   "source": [
    "## Romberg integration\n",
    "Reference: Newman, Section 5.4 Romberg integration"
   ]
  },
  {
   "cell_type": "code",
   "execution_count": 11,
   "id": "052f2e14-1513-4970-ba99-9e8018688891",
   "metadata": {},
   "outputs": [],
   "source": [
    "import numpy as np"
   ]
  },
  {
   "cell_type": "code",
   "execution_count": 12,
   "id": "fc9a1741-ed40-4fd8-b03f-6ebccbc3c27c",
   "metadata": {},
   "outputs": [],
   "source": [
    "initial_bins = 10 #initial number of bins for the trapezoidal rule\n",
    "romberg_steps = 3 #romberg_steps=1 is the standard trapezoidal rule\n",
    "\n",
    "#bounds of integration\n",
    "lower_bound = 0\n",
    "upper_bound = 1 #np.pi"
   ]
  },
  {
   "cell_type": "code",
   "execution_count": 13,
   "id": "d0eacff7-d965-4822-b09f-09705e8703f9",
   "metadata": {},
   "outputs": [],
   "source": [
    "def integrand(x): #integrand function\n",
    "    return x**4"
   ]
  },
  {
   "cell_type": "code",
   "execution_count": 14,
   "id": "bc8e2779-16b1-4c2d-a652-79a4e757be43",
   "metadata": {},
   "outputs": [],
   "source": [
    "def integrate_trapezoidal(f, lower_bound, upper_bound, bins):\n",
    "    points = bins + 1\n",
    "    bin_width = (upper_bound - lower_bound)/bins\n",
    "    x = np.linspace(lower_bound, upper_bound, points)\n",
    "    integral = bin_width * (np.sum(f(x[1:-1])) +  \n",
    "                0.5 * (f(lower_bound) + f(upper_bound)))\n",
    "    return integral"
   ]
  },
  {
   "cell_type": "markdown",
   "id": "675244db-d489-4dfc-8fbe-ecfdfd27d7f9",
   "metadata": {},
   "source": [
    "Apply trapezoidal rule for the initial number of bins to get $I_1$<br>\n",
    "$R_{1,1} = I_1$ <br> \n",
    "When we double the number of bins, we get $I_2$. Double the number of bins again and we get $I_3$, and so on. Denote $R_{i,1}$ to be this trapezoidal rule output $I_i$, i.e. <br> \n",
    "$R_{i,1} = I_i$ <br> \n",
    "The correction factor that improves the order of error of the estimate from successive splitting of bins comes from: <br>\n",
    "$R_{i,m+1} = R_{i,m} + \\frac{1}{4^m-1}(R_{i,m} − R_{i−1,m})$<br>\n",
    "Because of this recursion relation, the best estimate we'll get would be $R_{n,n}$, accurate to the order of $h_n^{2n}$ if we do $n-1$ successive doubling of the number of bins. However, we do not have error estimate for this term -- the one we have is for $R_{n,n-1}$, which we used to obtain $R_{n,n}$."
   ]
  },
  {
   "cell_type": "code",
   "execution_count": 15,
   "id": "bebe2a24-2403-48c8-ace9-05ddb589c7a1",
   "metadata": {},
   "outputs": [
    {
     "name": "stdout",
     "output_type": "stream",
     "text": [
      "[[0.20333    0.         0.        ]\n",
      " [0.20083313 0.20000083 0.        ]\n",
      " [0.20020832 0.20000005 0.2       ]]\n",
      "Best estimate:  0.20000000000000007\n",
      "Approximation error should be better than:  5.2083333340613436e-08\n",
      "Upper bound relative error due to floating point arithmetic:  2.220446049250313e-16\n"
     ]
    }
   ],
   "source": [
    "romberg_term = np.zeros([romberg_steps+1, romberg_steps+1])\n",
    "bins = initial_bins\n",
    "for i in range(1,romberg_steps+1):\n",
    "    romberg_term[i, 1] = integrate_trapezoidal(integrand, lower_bound, upper_bound, bins=bins)\n",
    "    bins = 2*bins\n",
    "    \n",
    "    for m in range(1,i):\n",
    "        coeff = 1./(4**m-1)\n",
    "        romberg_term[i,m+1] = romberg_term[i,m] + coeff*(romberg_term[i,m] - romberg_term[i-1,m])\n",
    "print(romberg_term[1:,1:])\n",
    "print(\"Best estimate: \", romberg_term[romberg_steps, romberg_steps])\n",
    "print(\"Approximation error should be better than: \", np.abs(romberg_term[romberg_steps, romberg_steps] -romberg_term[romberg_steps, romberg_steps-1]))\n",
    "print(\"Upper bound relative error due to floating point arithmetic: \", np.finfo(float).eps)"
   ]
  },
  {
   "cell_type": "markdown",
   "id": "cb8ec40f-b878-41e0-affc-582c3fa4ce91",
   "metadata": {},
   "source": [
    "Notes: <br>\n",
    "1. We could have adjusted the indexing by creating another function on top of the direct call to the numpy array. We didn't do that here because the waste in memory is insignificant, this will not always be the case.\n",
    "2. Expressing the correct number of significant figures is left to the student.\n",
    "3. In the call: integrate_trapezoidal(integrand, lower_bound, upper_bound, bins=bins), bins=bins is not a weird piece of code -- it is assigning the value of bins inside the integrate_trapezoidal function with the value of bins assigned in the loop. It could have very been written up as bins=kahon, where kahon = 2 * kahon, and kahon is set to initial_bins before enter"
   ]
  },
  {
   "cell_type": "code",
   "execution_count": null,
   "id": "45b9707b-627b-40b0-bcae-4535bd6cbf6f",
   "metadata": {},
   "outputs": [],
   "source": []
  }
 ],
 "metadata": {
  "kernelspec": {
   "display_name": "Python 3.10.4 ('ap155')",
   "language": "python",
   "name": "python3"
  },
  "language_info": {
   "codemirror_mode": {
    "name": "ipython",
    "version": 3
   },
   "file_extension": ".py",
   "mimetype": "text/x-python",
   "name": "python",
   "nbconvert_exporter": "python",
   "pygments_lexer": "ipython3",
   "version": "3.10.4"
  },
  "vscode": {
   "interpreter": {
    "hash": "712d15946c4b738201d5736d124fc7ab76201266dd87929b070b5cc88bbb282b"
   }
  }
 },
 "nbformat": 4,
 "nbformat_minor": 5
}
